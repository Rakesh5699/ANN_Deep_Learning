{
 "cells": [
  {
   "cell_type": "markdown",
   "id": "807bee5f",
   "metadata": {},
   "source": [
    "# Artificial Neural Network"
   ]
  },
  {
   "cell_type": "markdown",
   "id": "3c0c5b7e",
   "metadata": {},
   "source": [
    "https://keras.io/getting_started/"
   ]
  },
  {
   "cell_type": "markdown",
   "id": "a8946119",
   "metadata": {},
   "source": [
    "### Data Preprocessing :"
   ]
  },
  {
   "cell_type": "code",
   "execution_count": 1,
   "id": "af4b94c8",
   "metadata": {},
   "outputs": [],
   "source": [
    "# Importing the libraries\n",
    "import numpy as np \n",
    "import pandas as pd \n",
    "import matplotlib.pyplot as plt"
   ]
  },
  {
   "cell_type": "code",
   "execution_count": 2,
   "id": "fd6025ab",
   "metadata": {},
   "outputs": [
    {
     "data": {
      "text/html": [
       "<div>\n",
       "<style scoped>\n",
       "    .dataframe tbody tr th:only-of-type {\n",
       "        vertical-align: middle;\n",
       "    }\n",
       "\n",
       "    .dataframe tbody tr th {\n",
       "        vertical-align: top;\n",
       "    }\n",
       "\n",
       "    .dataframe thead th {\n",
       "        text-align: right;\n",
       "    }\n",
       "</style>\n",
       "<table border=\"1\" class=\"dataframe\">\n",
       "  <thead>\n",
       "    <tr style=\"text-align: right;\">\n",
       "      <th></th>\n",
       "      <th>RowNumber</th>\n",
       "      <th>CustomerId</th>\n",
       "      <th>Surname</th>\n",
       "      <th>CreditScore</th>\n",
       "      <th>Geography</th>\n",
       "      <th>Gender</th>\n",
       "      <th>Age</th>\n",
       "      <th>Tenure</th>\n",
       "      <th>Balance</th>\n",
       "      <th>NumOfProducts</th>\n",
       "      <th>HasCrCard</th>\n",
       "      <th>IsActiveMember</th>\n",
       "      <th>EstimatedSalary</th>\n",
       "      <th>Exited</th>\n",
       "    </tr>\n",
       "  </thead>\n",
       "  <tbody>\n",
       "    <tr>\n",
       "      <th>0</th>\n",
       "      <td>1</td>\n",
       "      <td>15634602</td>\n",
       "      <td>Hargrave</td>\n",
       "      <td>619</td>\n",
       "      <td>France</td>\n",
       "      <td>Female</td>\n",
       "      <td>42</td>\n",
       "      <td>2</td>\n",
       "      <td>0.00</td>\n",
       "      <td>1</td>\n",
       "      <td>1</td>\n",
       "      <td>1</td>\n",
       "      <td>101348.88</td>\n",
       "      <td>1</td>\n",
       "    </tr>\n",
       "    <tr>\n",
       "      <th>1</th>\n",
       "      <td>2</td>\n",
       "      <td>15647311</td>\n",
       "      <td>Hill</td>\n",
       "      <td>608</td>\n",
       "      <td>Spain</td>\n",
       "      <td>Female</td>\n",
       "      <td>41</td>\n",
       "      <td>1</td>\n",
       "      <td>83807.86</td>\n",
       "      <td>1</td>\n",
       "      <td>0</td>\n",
       "      <td>1</td>\n",
       "      <td>112542.58</td>\n",
       "      <td>0</td>\n",
       "    </tr>\n",
       "    <tr>\n",
       "      <th>2</th>\n",
       "      <td>3</td>\n",
       "      <td>15619304</td>\n",
       "      <td>Onio</td>\n",
       "      <td>502</td>\n",
       "      <td>France</td>\n",
       "      <td>Female</td>\n",
       "      <td>42</td>\n",
       "      <td>8</td>\n",
       "      <td>159660.80</td>\n",
       "      <td>3</td>\n",
       "      <td>1</td>\n",
       "      <td>0</td>\n",
       "      <td>113931.57</td>\n",
       "      <td>1</td>\n",
       "    </tr>\n",
       "    <tr>\n",
       "      <th>3</th>\n",
       "      <td>4</td>\n",
       "      <td>15701354</td>\n",
       "      <td>Boni</td>\n",
       "      <td>699</td>\n",
       "      <td>France</td>\n",
       "      <td>Female</td>\n",
       "      <td>39</td>\n",
       "      <td>1</td>\n",
       "      <td>0.00</td>\n",
       "      <td>2</td>\n",
       "      <td>0</td>\n",
       "      <td>0</td>\n",
       "      <td>93826.63</td>\n",
       "      <td>0</td>\n",
       "    </tr>\n",
       "    <tr>\n",
       "      <th>4</th>\n",
       "      <td>5</td>\n",
       "      <td>15737888</td>\n",
       "      <td>Mitchell</td>\n",
       "      <td>850</td>\n",
       "      <td>Spain</td>\n",
       "      <td>Female</td>\n",
       "      <td>43</td>\n",
       "      <td>2</td>\n",
       "      <td>125510.82</td>\n",
       "      <td>1</td>\n",
       "      <td>1</td>\n",
       "      <td>1</td>\n",
       "      <td>79084.10</td>\n",
       "      <td>0</td>\n",
       "    </tr>\n",
       "  </tbody>\n",
       "</table>\n",
       "</div>"
      ],
      "text/plain": [
       "   RowNumber  CustomerId   Surname  CreditScore Geography  Gender  Age  \\\n",
       "0          1    15634602  Hargrave          619    France  Female   42   \n",
       "1          2    15647311      Hill          608     Spain  Female   41   \n",
       "2          3    15619304      Onio          502    France  Female   42   \n",
       "3          4    15701354      Boni          699    France  Female   39   \n",
       "4          5    15737888  Mitchell          850     Spain  Female   43   \n",
       "\n",
       "   Tenure    Balance  NumOfProducts  HasCrCard  IsActiveMember  \\\n",
       "0       2       0.00              1          1               1   \n",
       "1       1   83807.86              1          0               1   \n",
       "2       8  159660.80              3          1               0   \n",
       "3       1       0.00              2          0               0   \n",
       "4       2  125510.82              1          1               1   \n",
       "\n",
       "   EstimatedSalary  Exited  \n",
       "0        101348.88       1  \n",
       "1        112542.58       0  \n",
       "2        113931.57       1  \n",
       "3         93826.63       0  \n",
       "4         79084.10       0  "
      ]
     },
     "execution_count": 2,
     "metadata": {},
     "output_type": "execute_result"
    }
   ],
   "source": [
    "df = pd.read_csv('Churn_data.csv')\n",
    "df.head()"
   ]
  },
  {
   "cell_type": "code",
   "execution_count": 3,
   "id": "cc3dc2b4",
   "metadata": {},
   "outputs": [],
   "source": [
    "# as we dont need the features like RowNumber\tCustomerId\tSurnam.\n",
    "# iam dropping those features \n",
    "df = df.drop([\"RowNumber\",\"CustomerId\",\"Surname\"],axis=1)"
   ]
  },
  {
   "cell_type": "code",
   "execution_count": 4,
   "id": "7c9ed945",
   "metadata": {},
   "outputs": [
    {
     "data": {
      "text/html": [
       "<div>\n",
       "<style scoped>\n",
       "    .dataframe tbody tr th:only-of-type {\n",
       "        vertical-align: middle;\n",
       "    }\n",
       "\n",
       "    .dataframe tbody tr th {\n",
       "        vertical-align: top;\n",
       "    }\n",
       "\n",
       "    .dataframe thead th {\n",
       "        text-align: right;\n",
       "    }\n",
       "</style>\n",
       "<table border=\"1\" class=\"dataframe\">\n",
       "  <thead>\n",
       "    <tr style=\"text-align: right;\">\n",
       "      <th></th>\n",
       "      <th>CreditScore</th>\n",
       "      <th>Geography</th>\n",
       "      <th>Gender</th>\n",
       "      <th>Age</th>\n",
       "      <th>Tenure</th>\n",
       "      <th>Balance</th>\n",
       "      <th>NumOfProducts</th>\n",
       "      <th>HasCrCard</th>\n",
       "      <th>IsActiveMember</th>\n",
       "      <th>EstimatedSalary</th>\n",
       "      <th>Exited</th>\n",
       "    </tr>\n",
       "  </thead>\n",
       "  <tbody>\n",
       "    <tr>\n",
       "      <th>0</th>\n",
       "      <td>619</td>\n",
       "      <td>France</td>\n",
       "      <td>Female</td>\n",
       "      <td>42</td>\n",
       "      <td>2</td>\n",
       "      <td>0.00</td>\n",
       "      <td>1</td>\n",
       "      <td>1</td>\n",
       "      <td>1</td>\n",
       "      <td>101348.88</td>\n",
       "      <td>1</td>\n",
       "    </tr>\n",
       "    <tr>\n",
       "      <th>1</th>\n",
       "      <td>608</td>\n",
       "      <td>Spain</td>\n",
       "      <td>Female</td>\n",
       "      <td>41</td>\n",
       "      <td>1</td>\n",
       "      <td>83807.86</td>\n",
       "      <td>1</td>\n",
       "      <td>0</td>\n",
       "      <td>1</td>\n",
       "      <td>112542.58</td>\n",
       "      <td>0</td>\n",
       "    </tr>\n",
       "    <tr>\n",
       "      <th>2</th>\n",
       "      <td>502</td>\n",
       "      <td>France</td>\n",
       "      <td>Female</td>\n",
       "      <td>42</td>\n",
       "      <td>8</td>\n",
       "      <td>159660.80</td>\n",
       "      <td>3</td>\n",
       "      <td>1</td>\n",
       "      <td>0</td>\n",
       "      <td>113931.57</td>\n",
       "      <td>1</td>\n",
       "    </tr>\n",
       "    <tr>\n",
       "      <th>3</th>\n",
       "      <td>699</td>\n",
       "      <td>France</td>\n",
       "      <td>Female</td>\n",
       "      <td>39</td>\n",
       "      <td>1</td>\n",
       "      <td>0.00</td>\n",
       "      <td>2</td>\n",
       "      <td>0</td>\n",
       "      <td>0</td>\n",
       "      <td>93826.63</td>\n",
       "      <td>0</td>\n",
       "    </tr>\n",
       "    <tr>\n",
       "      <th>4</th>\n",
       "      <td>850</td>\n",
       "      <td>Spain</td>\n",
       "      <td>Female</td>\n",
       "      <td>43</td>\n",
       "      <td>2</td>\n",
       "      <td>125510.82</td>\n",
       "      <td>1</td>\n",
       "      <td>1</td>\n",
       "      <td>1</td>\n",
       "      <td>79084.10</td>\n",
       "      <td>0</td>\n",
       "    </tr>\n",
       "  </tbody>\n",
       "</table>\n",
       "</div>"
      ],
      "text/plain": [
       "   CreditScore Geography  Gender  Age  Tenure    Balance  NumOfProducts  \\\n",
       "0          619    France  Female   42       2       0.00              1   \n",
       "1          608     Spain  Female   41       1   83807.86              1   \n",
       "2          502    France  Female   42       8  159660.80              3   \n",
       "3          699    France  Female   39       1       0.00              2   \n",
       "4          850     Spain  Female   43       2  125510.82              1   \n",
       "\n",
       "   HasCrCard  IsActiveMember  EstimatedSalary  Exited  \n",
       "0          1               1        101348.88       1  \n",
       "1          0               1        112542.58       0  \n",
       "2          1               0        113931.57       1  \n",
       "3          0               0         93826.63       0  \n",
       "4          1               1         79084.10       0  "
      ]
     },
     "execution_count": 4,
     "metadata": {},
     "output_type": "execute_result"
    }
   ],
   "source": [
    "df.head()"
   ]
  },
  {
   "cell_type": "code",
   "execution_count": 5,
   "id": "197ef740",
   "metadata": {},
   "outputs": [],
   "source": [
    "#Dividing data into x and y\n",
    "x = df.iloc[:,:-1]\n",
    "y = df.iloc[:,-1]"
   ]
  },
  {
   "cell_type": "markdown",
   "id": "d98273af",
   "metadata": {},
   "source": [
    "### One-hot encoding "
   ]
  },
  {
   "cell_type": "code",
   "execution_count": 6,
   "id": "e9113c9d",
   "metadata": {},
   "outputs": [],
   "source": [
    "#Create dummy variables \n",
    "Geography = pd.get_dummies(x[\"Geography\"],drop_first=True)\n",
    "Gender = pd.get_dummies(x[\"Gender\"],drop_first=True)"
   ]
  },
  {
   "cell_type": "code",
   "execution_count": 7,
   "id": "eeabd256",
   "metadata": {},
   "outputs": [
    {
     "data": {
      "text/html": [
       "<div>\n",
       "<style scoped>\n",
       "    .dataframe tbody tr th:only-of-type {\n",
       "        vertical-align: middle;\n",
       "    }\n",
       "\n",
       "    .dataframe tbody tr th {\n",
       "        vertical-align: top;\n",
       "    }\n",
       "\n",
       "    .dataframe thead th {\n",
       "        text-align: right;\n",
       "    }\n",
       "</style>\n",
       "<table border=\"1\" class=\"dataframe\">\n",
       "  <thead>\n",
       "    <tr style=\"text-align: right;\">\n",
       "      <th></th>\n",
       "      <th>CreditScore</th>\n",
       "      <th>Geography</th>\n",
       "      <th>Gender</th>\n",
       "      <th>Age</th>\n",
       "      <th>Tenure</th>\n",
       "      <th>Balance</th>\n",
       "      <th>NumOfProducts</th>\n",
       "      <th>HasCrCard</th>\n",
       "      <th>IsActiveMember</th>\n",
       "      <th>EstimatedSalary</th>\n",
       "      <th>Germany</th>\n",
       "      <th>Spain</th>\n",
       "      <th>Male</th>\n",
       "    </tr>\n",
       "  </thead>\n",
       "  <tbody>\n",
       "    <tr>\n",
       "      <th>0</th>\n",
       "      <td>619</td>\n",
       "      <td>France</td>\n",
       "      <td>Female</td>\n",
       "      <td>42</td>\n",
       "      <td>2</td>\n",
       "      <td>0.00</td>\n",
       "      <td>1</td>\n",
       "      <td>1</td>\n",
       "      <td>1</td>\n",
       "      <td>101348.88</td>\n",
       "      <td>0</td>\n",
       "      <td>0</td>\n",
       "      <td>0</td>\n",
       "    </tr>\n",
       "    <tr>\n",
       "      <th>1</th>\n",
       "      <td>608</td>\n",
       "      <td>Spain</td>\n",
       "      <td>Female</td>\n",
       "      <td>41</td>\n",
       "      <td>1</td>\n",
       "      <td>83807.86</td>\n",
       "      <td>1</td>\n",
       "      <td>0</td>\n",
       "      <td>1</td>\n",
       "      <td>112542.58</td>\n",
       "      <td>0</td>\n",
       "      <td>1</td>\n",
       "      <td>0</td>\n",
       "    </tr>\n",
       "    <tr>\n",
       "      <th>2</th>\n",
       "      <td>502</td>\n",
       "      <td>France</td>\n",
       "      <td>Female</td>\n",
       "      <td>42</td>\n",
       "      <td>8</td>\n",
       "      <td>159660.80</td>\n",
       "      <td>3</td>\n",
       "      <td>1</td>\n",
       "      <td>0</td>\n",
       "      <td>113931.57</td>\n",
       "      <td>0</td>\n",
       "      <td>0</td>\n",
       "      <td>0</td>\n",
       "    </tr>\n",
       "    <tr>\n",
       "      <th>3</th>\n",
       "      <td>699</td>\n",
       "      <td>France</td>\n",
       "      <td>Female</td>\n",
       "      <td>39</td>\n",
       "      <td>1</td>\n",
       "      <td>0.00</td>\n",
       "      <td>2</td>\n",
       "      <td>0</td>\n",
       "      <td>0</td>\n",
       "      <td>93826.63</td>\n",
       "      <td>0</td>\n",
       "      <td>0</td>\n",
       "      <td>0</td>\n",
       "    </tr>\n",
       "    <tr>\n",
       "      <th>4</th>\n",
       "      <td>850</td>\n",
       "      <td>Spain</td>\n",
       "      <td>Female</td>\n",
       "      <td>43</td>\n",
       "      <td>2</td>\n",
       "      <td>125510.82</td>\n",
       "      <td>1</td>\n",
       "      <td>1</td>\n",
       "      <td>1</td>\n",
       "      <td>79084.10</td>\n",
       "      <td>0</td>\n",
       "      <td>1</td>\n",
       "      <td>0</td>\n",
       "    </tr>\n",
       "  </tbody>\n",
       "</table>\n",
       "</div>"
      ],
      "text/plain": [
       "   CreditScore Geography  Gender  Age  Tenure    Balance  NumOfProducts  \\\n",
       "0          619    France  Female   42       2       0.00              1   \n",
       "1          608     Spain  Female   41       1   83807.86              1   \n",
       "2          502    France  Female   42       8  159660.80              3   \n",
       "3          699    France  Female   39       1       0.00              2   \n",
       "4          850     Spain  Female   43       2  125510.82              1   \n",
       "\n",
       "   HasCrCard  IsActiveMember  EstimatedSalary  Germany  Spain  Male  \n",
       "0          1               1        101348.88        0      0     0  \n",
       "1          0               1        112542.58        0      1     0  \n",
       "2          1               0        113931.57        0      0     0  \n",
       "3          0               0         93826.63        0      0     0  \n",
       "4          1               1         79084.10        0      1     0  "
      ]
     },
     "execution_count": 7,
     "metadata": {},
     "output_type": "execute_result"
    }
   ],
   "source": [
    "#Concatenate the Data Frames\n",
    "x = pd.concat([x,Geography,Gender],axis=1)\n",
    "x.head()"
   ]
  },
  {
   "cell_type": "code",
   "execution_count": 8,
   "id": "bf54ff1e",
   "metadata": {},
   "outputs": [],
   "source": [
    "#Dropping unnessary columns \n",
    "x = x.drop([\"Geography\",\"Gender\"],axis=1)"
   ]
  },
  {
   "cell_type": "code",
   "execution_count": 9,
   "id": "8a6e93ca",
   "metadata": {},
   "outputs": [
    {
     "data": {
      "text/html": [
       "<div>\n",
       "<style scoped>\n",
       "    .dataframe tbody tr th:only-of-type {\n",
       "        vertical-align: middle;\n",
       "    }\n",
       "\n",
       "    .dataframe tbody tr th {\n",
       "        vertical-align: top;\n",
       "    }\n",
       "\n",
       "    .dataframe thead th {\n",
       "        text-align: right;\n",
       "    }\n",
       "</style>\n",
       "<table border=\"1\" class=\"dataframe\">\n",
       "  <thead>\n",
       "    <tr style=\"text-align: right;\">\n",
       "      <th></th>\n",
       "      <th>CreditScore</th>\n",
       "      <th>Age</th>\n",
       "      <th>Tenure</th>\n",
       "      <th>Balance</th>\n",
       "      <th>NumOfProducts</th>\n",
       "      <th>HasCrCard</th>\n",
       "      <th>IsActiveMember</th>\n",
       "      <th>EstimatedSalary</th>\n",
       "      <th>Germany</th>\n",
       "      <th>Spain</th>\n",
       "      <th>Male</th>\n",
       "    </tr>\n",
       "  </thead>\n",
       "  <tbody>\n",
       "    <tr>\n",
       "      <th>0</th>\n",
       "      <td>619</td>\n",
       "      <td>42</td>\n",
       "      <td>2</td>\n",
       "      <td>0.00</td>\n",
       "      <td>1</td>\n",
       "      <td>1</td>\n",
       "      <td>1</td>\n",
       "      <td>101348.88</td>\n",
       "      <td>0</td>\n",
       "      <td>0</td>\n",
       "      <td>0</td>\n",
       "    </tr>\n",
       "    <tr>\n",
       "      <th>1</th>\n",
       "      <td>608</td>\n",
       "      <td>41</td>\n",
       "      <td>1</td>\n",
       "      <td>83807.86</td>\n",
       "      <td>1</td>\n",
       "      <td>0</td>\n",
       "      <td>1</td>\n",
       "      <td>112542.58</td>\n",
       "      <td>0</td>\n",
       "      <td>1</td>\n",
       "      <td>0</td>\n",
       "    </tr>\n",
       "    <tr>\n",
       "      <th>2</th>\n",
       "      <td>502</td>\n",
       "      <td>42</td>\n",
       "      <td>8</td>\n",
       "      <td>159660.80</td>\n",
       "      <td>3</td>\n",
       "      <td>1</td>\n",
       "      <td>0</td>\n",
       "      <td>113931.57</td>\n",
       "      <td>0</td>\n",
       "      <td>0</td>\n",
       "      <td>0</td>\n",
       "    </tr>\n",
       "    <tr>\n",
       "      <th>3</th>\n",
       "      <td>699</td>\n",
       "      <td>39</td>\n",
       "      <td>1</td>\n",
       "      <td>0.00</td>\n",
       "      <td>2</td>\n",
       "      <td>0</td>\n",
       "      <td>0</td>\n",
       "      <td>93826.63</td>\n",
       "      <td>0</td>\n",
       "      <td>0</td>\n",
       "      <td>0</td>\n",
       "    </tr>\n",
       "    <tr>\n",
       "      <th>4</th>\n",
       "      <td>850</td>\n",
       "      <td>43</td>\n",
       "      <td>2</td>\n",
       "      <td>125510.82</td>\n",
       "      <td>1</td>\n",
       "      <td>1</td>\n",
       "      <td>1</td>\n",
       "      <td>79084.10</td>\n",
       "      <td>0</td>\n",
       "      <td>1</td>\n",
       "      <td>0</td>\n",
       "    </tr>\n",
       "  </tbody>\n",
       "</table>\n",
       "</div>"
      ],
      "text/plain": [
       "   CreditScore  Age  Tenure    Balance  NumOfProducts  HasCrCard  \\\n",
       "0          619   42       2       0.00              1          1   \n",
       "1          608   41       1   83807.86              1          0   \n",
       "2          502   42       8  159660.80              3          1   \n",
       "3          699   39       1       0.00              2          0   \n",
       "4          850   43       2  125510.82              1          1   \n",
       "\n",
       "   IsActiveMember  EstimatedSalary  Germany  Spain  Male  \n",
       "0               1        101348.88        0      0     0  \n",
       "1               1        112542.58        0      1     0  \n",
       "2               0        113931.57        0      0     0  \n",
       "3               0         93826.63        0      0     0  \n",
       "4               1         79084.10        0      1     0  "
      ]
     },
     "execution_count": 9,
     "metadata": {},
     "output_type": "execute_result"
    }
   ],
   "source": [
    "x.head()"
   ]
  },
  {
   "cell_type": "code",
   "execution_count": 10,
   "id": "3a9561ce",
   "metadata": {},
   "outputs": [],
   "source": [
    "# Splitting the dataset into the Training set and Test set\n",
    "from sklearn.model_selection import train_test_split\n",
    "x_train,x_test,y_train,y_test = train_test_split(x,y,test_size=0.3,random_state=5)"
   ]
  },
  {
   "cell_type": "code",
   "execution_count": 11,
   "id": "0b008b92",
   "metadata": {},
   "outputs": [],
   "source": [
    "# Feature Scaling\n",
    "from sklearn.preprocessing import StandardScaler\n",
    "sc = StandardScaler()\n",
    "x_train = sc.fit_transform(x_train)\n",
    "x_test = sc.fit_transform(x_test)"
   ]
  },
  {
   "cell_type": "code",
   "execution_count": 12,
   "id": "e832a25a",
   "metadata": {},
   "outputs": [
    {
     "data": {
      "text/plain": [
       "array([[-1.44395693e+00,  2.27797473e+00,  1.04411743e+00, ...,\n",
       "        -5.85268586e-01, -5.72071527e-01,  9.07409229e-01],\n",
       "       [-4.13114515e-01,  5.72265460e-01, -6.93265378e-01, ...,\n",
       "        -5.85268586e-01,  1.74803316e+00, -1.10203860e+00],\n",
       "       [-1.68105068e+00,  2.08845148e+00,  1.68774330e-03, ...,\n",
       "         1.70861725e+00, -5.72071527e-01, -1.10203860e+00],\n",
       "       ...,\n",
       "       [-6.91441966e-01, -7.54397306e-01, -3.45788818e-01, ...,\n",
       "        -5.85268586e-01, -5.72071527e-01, -1.10203860e+00],\n",
       "       [ 2.98166750e-01, -2.80589175e-01,  3.49164304e-01, ...,\n",
       "        -5.85268586e-01, -5.72071527e-01,  9.07409229e-01],\n",
       "       [-1.66043383e+00,  1.23559684e+00, -1.38821850e+00, ...,\n",
       "         1.70861725e+00, -5.72071527e-01, -1.10203860e+00]])"
      ]
     },
     "execution_count": 12,
     "metadata": {},
     "output_type": "execute_result"
    }
   ],
   "source": [
    "x_train"
   ]
  },
  {
   "cell_type": "code",
   "execution_count": 13,
   "id": "d8292766",
   "metadata": {},
   "outputs": [
    {
     "data": {
      "text/plain": [
       "array([[ 1.22566172, -0.08036346,  0.32349206, ..., -0.56349184,\n",
       "         1.73051257,  0.92419744],\n",
       "       [-1.22747112, -0.46750174,  0.66544983, ..., -0.56349184,\n",
       "        -0.57786347, -1.08201987],\n",
       "       [ 0.80810719, -0.46750174,  1.34936539, ..., -0.56349184,\n",
       "        -0.57786347, -1.08201987],\n",
       "       ...,\n",
       "       [ 2.07120963, -0.75785546, -1.38629683, ..., -0.56349184,\n",
       "        -0.57786347,  0.92419744],\n",
       "       [-0.24621799, -1.33856289,  0.66544983, ..., -0.56349184,\n",
       "        -0.57786347,  0.92419744],\n",
       "       [ 0.86030151, -0.17714803, -0.70238127, ..., -0.56349184,\n",
       "        -0.57786347,  0.92419744]])"
      ]
     },
     "execution_count": 13,
     "metadata": {},
     "output_type": "execute_result"
    }
   ],
   "source": [
    "x_test"
   ]
  },
  {
   "cell_type": "markdown",
   "id": "44942f76",
   "metadata": {},
   "source": [
    "# Creating ANN"
   ]
  },
  {
   "cell_type": "code",
   "execution_count": 14,
   "id": "d22395eb",
   "metadata": {},
   "outputs": [],
   "source": [
    "# Importing the Keras libraries and packages\n",
    "import keras\n",
    "from keras.models import Sequential\n",
    "from keras.layers import Dense\n",
    "from keras.layers import LeakyReLU,PReLU,ELU\n",
    "from keras.layers import Dropout"
   ]
  },
  {
   "cell_type": "code",
   "execution_count": 15,
   "id": "046a5370",
   "metadata": {},
   "outputs": [],
   "source": [
    "# Initialising the ANN\n",
    "# this is an empty nueral network\n",
    "classifier = Sequential()"
   ]
  },
  {
   "cell_type": "code",
   "execution_count": 16,
   "id": "5fa68615",
   "metadata": {},
   "outputs": [
    {
     "ename": "TypeError",
     "evalue": "__init__() missing 1 required positional argument: 'units'",
     "output_type": "error",
     "traceback": [
      "\u001b[1;31m---------------------------------------------------------------------------\u001b[0m",
      "\u001b[1;31mTypeError\u001b[0m                                 Traceback (most recent call last)",
      "Input \u001b[1;32mIn [16]\u001b[0m, in \u001b[0;36m<cell line: 2>\u001b[1;34m()\u001b[0m\n\u001b[0;32m      1\u001b[0m \u001b[38;5;66;03m#with respect to keras 1.0 this is syntax\u001b[39;00m\n\u001b[1;32m----> 2\u001b[0m classifier\u001b[38;5;241m.\u001b[39madd(\u001b[43mDense\u001b[49m\u001b[43m(\u001b[49m\u001b[43moutput_dim\u001b[49m\u001b[43m \u001b[49m\u001b[38;5;241;43m=\u001b[39;49m\u001b[43m \u001b[49m\u001b[38;5;241;43m6\u001b[39;49m\u001b[43m,\u001b[49m\u001b[43minit\u001b[49m\u001b[43m \u001b[49m\u001b[38;5;241;43m=\u001b[39;49m\u001b[43m \u001b[49m\u001b[38;5;124;43m'\u001b[39;49m\u001b[38;5;124;43mhe_uniform\u001b[39;49m\u001b[38;5;124;43m'\u001b[39;49m\u001b[43m,\u001b[49m\u001b[43mactivation\u001b[49m\u001b[38;5;241;43m=\u001b[39;49m\u001b[38;5;124;43m'\u001b[39;49m\u001b[38;5;124;43mrelu\u001b[39;49m\u001b[38;5;124;43m'\u001b[39;49m\u001b[43m,\u001b[49m\u001b[43minput_dim\u001b[49m\u001b[43m \u001b[49m\u001b[38;5;241;43m=\u001b[39;49m\u001b[43m \u001b[49m\u001b[38;5;241;43m11\u001b[39;49m\u001b[43m)\u001b[49m)\n",
      "File \u001b[1;32m~\\anaconda3\\lib\\site-packages\\keras\\dtensor\\utils.py:95\u001b[0m, in \u001b[0;36mallow_initializer_layout.<locals>._wrap_function\u001b[1;34m(layer_instance, *args, **kwargs)\u001b[0m\n\u001b[0;32m     92\u001b[0m     \u001b[38;5;28;01mif\u001b[39;00m layout:\n\u001b[0;32m     93\u001b[0m       layout_args[variable_name \u001b[38;5;241m+\u001b[39m \u001b[38;5;124m\"\u001b[39m\u001b[38;5;124m_layout\u001b[39m\u001b[38;5;124m\"\u001b[39m] \u001b[38;5;241m=\u001b[39m layout\n\u001b[1;32m---> 95\u001b[0m init_method(layer_instance, \u001b[38;5;241m*\u001b[39margs, \u001b[38;5;241m*\u001b[39m\u001b[38;5;241m*\u001b[39mkwargs)\n\u001b[0;32m     97\u001b[0m \u001b[38;5;66;03m# Inject the layout parameter after the invocation of __init__()\u001b[39;00m\n\u001b[0;32m     98\u001b[0m \u001b[38;5;28;01mfor\u001b[39;00m layout_param_name, layout \u001b[38;5;129;01min\u001b[39;00m layout_args\u001b[38;5;241m.\u001b[39mitems():\n",
      "\u001b[1;31mTypeError\u001b[0m: __init__() missing 1 required positional argument: 'units'"
     ]
    }
   ],
   "source": [
    "#with respect to keras 1.0 this is syntax\n",
    "classifier.add(Dense(output_dim = 6,init = 'he_uniform',activation='relu',input_dim = 11))"
   ]
  },
  {
   "cell_type": "code",
   "execution_count": 17,
   "id": "9fccc3fe",
   "metadata": {},
   "outputs": [],
   "source": [
    "# output_dim = 6 means iam going to consider 6 neurons\n",
    "# init = 'he_uniform' means how wiegts need to intilize.\n",
    "#input_dim is 11 because we are giving 11 inputs to that neuron"
   ]
  },
  {
   "cell_type": "code",
   "execution_count": 18,
   "id": "8a81fcae",
   "metadata": {},
   "outputs": [],
   "source": [
    "#after keras 1.0 \n",
    "# output_dim  parameter changed to \"units\"\n",
    "# init parameter changed to \"kernel_initializer\"\n",
    "classifier.add(Dense(units = 6,kernel_initializer='he_uniform',activation='relu',input_dim = 11))"
   ]
  },
  {
   "cell_type": "code",
   "execution_count": 19,
   "id": "fb25994c",
   "metadata": {},
   "outputs": [],
   "source": [
    "# Adding the second hidden layer\n",
    "classifier.add(Dense(units = 6,kernel_initializer='he_uniform',activation='relu'))"
   ]
  },
  {
   "cell_type": "code",
   "execution_count": 20,
   "id": "cf10d30f",
   "metadata": {},
   "outputs": [],
   "source": [
    "# Adding the output layer\n",
    "classifier.add(Dense(units = 1, kernel_initializer = 'glorot_uniform', activation = 'sigmoid'))"
   ]
  },
  {
   "attachments": {
    "image-4.png": {
     "image/png": "[encoded data removed]"
    }
   },
   "cell_type": "markdown",
   "id": "4d3ffcc7",
   "metadata": {},
   "source": [
    "![image-4.png](attachment:image-4.png)\n",
    "\n",
    "After adding two hidden layers and later we will do hyper optimizer technique to how many actually can i use hidden layers.\n",
    "\n",
    "As of now we are just intilizing 2 hidden layers.later we will find how many layer should i take."
   ]
  },
  {
   "cell_type": "code",
   "execution_count": 21,
   "id": "20559d13",
   "metadata": {},
   "outputs": [
    {
     "name": "stdout",
     "output_type": "stream",
     "text": [
      "Model: \"sequential\"\n",
      "_________________________________________________________________\n",
      " Layer (type)                Output Shape              Param #   \n",
      "=================================================================\n",
      " dense (Dense)               (None, 6)                 72        \n",
      "                                                                 \n",
      " dense_1 (Dense)             (None, 6)                 42        \n",
      "                                                                 \n",
      " dense_2 (Dense)             (None, 1)                 7         \n",
      "                                                                 \n",
      "=================================================================\n",
      "Total params: 121\n",
      "Trainable params: 121\n",
      "Non-trainable params: 0\n",
      "_________________________________________________________________\n"
     ]
    }
   ],
   "source": [
    "#to get summary about your nueral network\n",
    "classifier.summary()"
   ]
  },
  {
   "cell_type": "code",
   "execution_count": 22,
   "id": "947f9fde",
   "metadata": {},
   "outputs": [],
   "source": [
    "# Compiling the ANN\n",
    "classifier.compile(optimizer = 'Adamax', loss = 'binary_crossentropy', metrics = ['accuracy'])"
   ]
  },
  {
   "cell_type": "code",
   "execution_count": 23,
   "id": "9e22af5d",
   "metadata": {},
   "outputs": [],
   "source": [
    "# we are using \"Adamax\" as our optimizer.\n",
    "# and it better to use loss as \"binary_crossentropy\" for binary class classification\n",
    "# where as \"categorical_crossentropy\" use for multclass classification"
   ]
  },
  {
   "cell_type": "code",
   "execution_count": 24,
   "id": "8f74ce87",
   "metadata": {
    "scrolled": true
   },
   "outputs": [
    {
     "name": "stdout",
     "output_type": "stream",
     "text": [
      "Epoch 1/100\n",
      "469/469 [==============================] - 2s 3ms/step - loss: 0.5745 - accuracy: 0.7867 - val_loss: 0.5203 - val_accuracy: 0.7992\n",
      "Epoch 2/100\n",
      "469/469 [==============================] - 1s 2ms/step - loss: 0.5101 - accuracy: 0.7919 - val_loss: 0.4864 - val_accuracy: 0.7992\n",
      "Epoch 3/100\n",
      "469/469 [==============================] - 1s 2ms/step - loss: 0.4899 - accuracy: 0.7919 - val_loss: 0.4758 - val_accuracy: 0.7992\n",
      "Epoch 4/100\n",
      "469/469 [==============================] - 1s 2ms/step - loss: 0.4810 - accuracy: 0.7919 - val_loss: 0.4697 - val_accuracy: 0.7992\n",
      "Epoch 5/100\n",
      "469/469 [==============================] - 1s 2ms/step - loss: 0.4753 - accuracy: 0.7919 - val_loss: 0.4655 - val_accuracy: 0.7992\n",
      "Epoch 6/100\n",
      "469/469 [==============================] - 1s 2ms/step - loss: 0.4707 - accuracy: 0.7919 - val_loss: 0.4622 - val_accuracy: 0.7992\n",
      "Epoch 7/100\n",
      "469/469 [==============================] - 1s 2ms/step - loss: 0.4668 - accuracy: 0.7919 - val_loss: 0.4593 - val_accuracy: 0.7992\n",
      "Epoch 8/100\n",
      "469/469 [==============================] - 1s 2ms/step - loss: 0.4632 - accuracy: 0.7919 - val_loss: 0.4566 - val_accuracy: 0.7992\n",
      "Epoch 9/100\n",
      "469/469 [==============================] - 1s 2ms/step - loss: 0.4599 - accuracy: 0.7919 - val_loss: 0.4541 - val_accuracy: 0.7992\n",
      "Epoch 10/100\n",
      "469/469 [==============================] - 1s 2ms/step - loss: 0.4569 - accuracy: 0.7919 - val_loss: 0.4518 - val_accuracy: 0.7992\n",
      "Epoch 11/100\n",
      "469/469 [==============================] - 1s 2ms/step - loss: 0.4542 - accuracy: 0.7919 - val_loss: 0.4496 - val_accuracy: 0.7992\n",
      "Epoch 12/100\n",
      "469/469 [==============================] - 1s 2ms/step - loss: 0.4515 - accuracy: 0.7919 - val_loss: 0.4474 - val_accuracy: 0.7992\n",
      "Epoch 13/100\n",
      "469/469 [==============================] - 1s 2ms/step - loss: 0.4491 - accuracy: 0.7919 - val_loss: 0.4455 - val_accuracy: 0.7992\n",
      "Epoch 14/100\n",
      "469/469 [==============================] - 1s 2ms/step - loss: 0.4468 - accuracy: 0.7919 - val_loss: 0.4437 - val_accuracy: 0.7992\n",
      "Epoch 15/100\n",
      "469/469 [==============================] - 1s 2ms/step - loss: 0.4449 - accuracy: 0.7919 - val_loss: 0.4421 - val_accuracy: 0.7992\n",
      "Epoch 16/100\n",
      "469/469 [==============================] - 1s 2ms/step - loss: 0.4432 - accuracy: 0.7919 - val_loss: 0.4408 - val_accuracy: 0.7992\n",
      "Epoch 17/100\n",
      "469/469 [==============================] - 1s 2ms/step - loss: 0.4417 - accuracy: 0.7919 - val_loss: 0.4396 - val_accuracy: 0.7992\n",
      "Epoch 18/100\n",
      "469/469 [==============================] - 1s 2ms/step - loss: 0.4404 - accuracy: 0.7919 - val_loss: 0.4384 - val_accuracy: 0.7992\n",
      "Epoch 19/100\n",
      "469/469 [==============================] - 1s 2ms/step - loss: 0.4392 - accuracy: 0.7919 - val_loss: 0.4374 - val_accuracy: 0.7992\n",
      "Epoch 20/100\n",
      "469/469 [==============================] - 1s 2ms/step - loss: 0.4381 - accuracy: 0.7919 - val_loss: 0.4366 - val_accuracy: 0.7992\n",
      "Epoch 21/100\n",
      "469/469 [==============================] - 1s 2ms/step - loss: 0.4371 - accuracy: 0.7919 - val_loss: 0.4357 - val_accuracy: 0.7992\n",
      "Epoch 22/100\n",
      "469/469 [==============================] - 1s 2ms/step - loss: 0.4361 - accuracy: 0.7919 - val_loss: 0.4350 - val_accuracy: 0.7992\n",
      "Epoch 23/100\n",
      "469/469 [==============================] - 1s 2ms/step - loss: 0.4349 - accuracy: 0.7919 - val_loss: 0.4342 - val_accuracy: 0.7992\n",
      "Epoch 24/100\n",
      "469/469 [==============================] - 1s 2ms/step - loss: 0.4340 - accuracy: 0.7914 - val_loss: 0.4335 - val_accuracy: 0.8001\n",
      "Epoch 25/100\n",
      "469/469 [==============================] - 1s 2ms/step - loss: 0.4331 - accuracy: 0.7991 - val_loss: 0.4329 - val_accuracy: 0.8113\n",
      "Epoch 26/100\n",
      "469/469 [==============================] - 1s 2ms/step - loss: 0.4323 - accuracy: 0.8036 - val_loss: 0.4323 - val_accuracy: 0.8109\n",
      "Epoch 27/100\n",
      "469/469 [==============================] - 1s 2ms/step - loss: 0.4315 - accuracy: 0.8066 - val_loss: 0.4316 - val_accuracy: 0.8109\n",
      "Epoch 28/100\n",
      "469/469 [==============================] - 1s 2ms/step - loss: 0.4306 - accuracy: 0.8081 - val_loss: 0.4308 - val_accuracy: 0.8100\n",
      "Epoch 29/100\n",
      "469/469 [==============================] - 1s 2ms/step - loss: 0.4297 - accuracy: 0.8085 - val_loss: 0.4300 - val_accuracy: 0.8118\n",
      "Epoch 30/100\n",
      "469/469 [==============================] - 1s 2ms/step - loss: 0.4289 - accuracy: 0.8100 - val_loss: 0.4292 - val_accuracy: 0.8122\n",
      "Epoch 31/100\n",
      "469/469 [==============================] - 1s 2ms/step - loss: 0.4279 - accuracy: 0.8098 - val_loss: 0.4284 - val_accuracy: 0.8131\n",
      "Epoch 32/100\n",
      "469/469 [==============================] - 1s 2ms/step - loss: 0.4270 - accuracy: 0.8096 - val_loss: 0.4276 - val_accuracy: 0.8135\n",
      "Epoch 33/100\n",
      "469/469 [==============================] - 1s 2ms/step - loss: 0.4260 - accuracy: 0.8106 - val_loss: 0.4267 - val_accuracy: 0.8152\n",
      "Epoch 34/100\n",
      "469/469 [==============================] - 1s 2ms/step - loss: 0.4251 - accuracy: 0.8100 - val_loss: 0.4258 - val_accuracy: 0.8157\n",
      "Epoch 35/100\n",
      "469/469 [==============================] - 1s 2ms/step - loss: 0.4242 - accuracy: 0.8117 - val_loss: 0.4249 - val_accuracy: 0.8161\n",
      "Epoch 36/100\n",
      "469/469 [==============================] - 1s 3ms/step - loss: 0.4233 - accuracy: 0.8134 - val_loss: 0.4241 - val_accuracy: 0.8174\n",
      "Epoch 37/100\n",
      "469/469 [==============================] - 1s 2ms/step - loss: 0.4224 - accuracy: 0.8145 - val_loss: 0.4233 - val_accuracy: 0.8178\n",
      "Epoch 38/100\n",
      "469/469 [==============================] - 1s 2ms/step - loss: 0.4215 - accuracy: 0.8157 - val_loss: 0.4226 - val_accuracy: 0.8165\n",
      "Epoch 39/100\n",
      "469/469 [==============================] - 1s 2ms/step - loss: 0.4207 - accuracy: 0.8164 - val_loss: 0.4218 - val_accuracy: 0.8187\n",
      "Epoch 40/100\n",
      "469/469 [==============================] - 1s 2ms/step - loss: 0.4198 - accuracy: 0.8164 - val_loss: 0.4210 - val_accuracy: 0.8209\n",
      "Epoch 41/100\n",
      "469/469 [==============================] - 1s 2ms/step - loss: 0.4190 - accuracy: 0.8189 - val_loss: 0.4203 - val_accuracy: 0.8222\n",
      "Epoch 42/100\n",
      "469/469 [==============================] - 1s 2ms/step - loss: 0.4182 - accuracy: 0.8202 - val_loss: 0.4196 - val_accuracy: 0.8239\n",
      "Epoch 43/100\n",
      "469/469 [==============================] - 1s 2ms/step - loss: 0.4175 - accuracy: 0.8217 - val_loss: 0.4188 - val_accuracy: 0.8248\n",
      "Epoch 44/100\n",
      "469/469 [==============================] - 1s 2ms/step - loss: 0.4168 - accuracy: 0.8224 - val_loss: 0.4179 - val_accuracy: 0.8256\n",
      "Epoch 45/100\n",
      "469/469 [==============================] - 1s 2ms/step - loss: 0.4160 - accuracy: 0.8217 - val_loss: 0.4172 - val_accuracy: 0.8260\n",
      "Epoch 46/100\n",
      "469/469 [==============================] - 1s 2ms/step - loss: 0.4152 - accuracy: 0.8226 - val_loss: 0.4164 - val_accuracy: 0.8269\n",
      "Epoch 47/100\n",
      "469/469 [==============================] - 1s 2ms/step - loss: 0.4144 - accuracy: 0.8232 - val_loss: 0.4157 - val_accuracy: 0.8291\n",
      "Epoch 48/100\n",
      "469/469 [==============================] - 1s 2ms/step - loss: 0.4137 - accuracy: 0.8241 - val_loss: 0.4151 - val_accuracy: 0.8295\n",
      "Epoch 49/100\n",
      "469/469 [==============================] - 1s 2ms/step - loss: 0.4131 - accuracy: 0.8238 - val_loss: 0.4143 - val_accuracy: 0.8295\n",
      "Epoch 50/100\n",
      "469/469 [==============================] - 1s 2ms/step - loss: 0.4124 - accuracy: 0.8251 - val_loss: 0.4138 - val_accuracy: 0.8304\n",
      "Epoch 51/100\n",
      "469/469 [==============================] - 1s 2ms/step - loss: 0.4118 - accuracy: 0.8268 - val_loss: 0.4132 - val_accuracy: 0.8312\n",
      "Epoch 52/100\n",
      "469/469 [==============================] - 1s 2ms/step - loss: 0.4113 - accuracy: 0.8260 - val_loss: 0.4127 - val_accuracy: 0.8317\n",
      "Epoch 53/100\n",
      "469/469 [==============================] - 1s 2ms/step - loss: 0.4107 - accuracy: 0.8270 - val_loss: 0.4120 - val_accuracy: 0.8321\n",
      "Epoch 54/100\n",
      "469/469 [==============================] - 1s 2ms/step - loss: 0.4102 - accuracy: 0.8277 - val_loss: 0.4115 - val_accuracy: 0.8312\n",
      "Epoch 55/100\n",
      "469/469 [==============================] - 1s 2ms/step - loss: 0.4097 - accuracy: 0.8273 - val_loss: 0.4109 - val_accuracy: 0.8325\n",
      "Epoch 56/100\n",
      "469/469 [==============================] - 1s 2ms/step - loss: 0.4091 - accuracy: 0.8281 - val_loss: 0.4103 - val_accuracy: 0.8312\n",
      "Epoch 57/100\n",
      "469/469 [==============================] - 1s 2ms/step - loss: 0.4086 - accuracy: 0.8273 - val_loss: 0.4098 - val_accuracy: 0.8330\n"
     ]
    },
    {
     "name": "stdout",
     "output_type": "stream",
     "text": [
      "Epoch 58/100\n",
      "469/469 [==============================] - 1s 2ms/step - loss: 0.4081 - accuracy: 0.8279 - val_loss: 0.4093 - val_accuracy: 0.8334\n",
      "Epoch 59/100\n",
      "469/469 [==============================] - 1s 2ms/step - loss: 0.4077 - accuracy: 0.8281 - val_loss: 0.4086 - val_accuracy: 0.8325\n",
      "Epoch 60/100\n",
      "469/469 [==============================] - 1s 2ms/step - loss: 0.4072 - accuracy: 0.8279 - val_loss: 0.4082 - val_accuracy: 0.8330\n",
      "Epoch 61/100\n",
      "469/469 [==============================] - 1s 2ms/step - loss: 0.4067 - accuracy: 0.8281 - val_loss: 0.4078 - val_accuracy: 0.8325\n",
      "Epoch 62/100\n",
      "469/469 [==============================] - 1s 2ms/step - loss: 0.4064 - accuracy: 0.8285 - val_loss: 0.4074 - val_accuracy: 0.8325\n",
      "Epoch 63/100\n",
      "469/469 [==============================] - 1s 2ms/step - loss: 0.4061 - accuracy: 0.8298 - val_loss: 0.4070 - val_accuracy: 0.8321\n",
      "Epoch 64/100\n",
      "469/469 [==============================] - 1s 2ms/step - loss: 0.4057 - accuracy: 0.8292 - val_loss: 0.4067 - val_accuracy: 0.8321\n",
      "Epoch 65/100\n",
      "469/469 [==============================] - 1s 2ms/step - loss: 0.4054 - accuracy: 0.8285 - val_loss: 0.4064 - val_accuracy: 0.8330\n",
      "Epoch 66/100\n",
      "469/469 [==============================] - 1s 2ms/step - loss: 0.4051 - accuracy: 0.8287 - val_loss: 0.4061 - val_accuracy: 0.8347\n",
      "Epoch 67/100\n",
      "469/469 [==============================] - 1s 2ms/step - loss: 0.4049 - accuracy: 0.8287 - val_loss: 0.4057 - val_accuracy: 0.8338\n",
      "Epoch 68/100\n",
      "469/469 [==============================] - 1s 2ms/step - loss: 0.4046 - accuracy: 0.8285 - val_loss: 0.4054 - val_accuracy: 0.8356\n",
      "Epoch 69/100\n",
      "469/469 [==============================] - 1s 2ms/step - loss: 0.4044 - accuracy: 0.8302 - val_loss: 0.4052 - val_accuracy: 0.8360\n",
      "Epoch 70/100\n",
      "469/469 [==============================] - 1s 2ms/step - loss: 0.4040 - accuracy: 0.8292 - val_loss: 0.4049 - val_accuracy: 0.8364\n",
      "Epoch 71/100\n",
      "469/469 [==============================] - 1s 2ms/step - loss: 0.4039 - accuracy: 0.8300 - val_loss: 0.4048 - val_accuracy: 0.8360\n",
      "Epoch 72/100\n",
      "469/469 [==============================] - 1s 2ms/step - loss: 0.4036 - accuracy: 0.8292 - val_loss: 0.4046 - val_accuracy: 0.8364\n",
      "Epoch 73/100\n",
      "469/469 [==============================] - 1s 2ms/step - loss: 0.4035 - accuracy: 0.8296 - val_loss: 0.4043 - val_accuracy: 0.8360\n",
      "Epoch 74/100\n",
      "469/469 [==============================] - 1s 2ms/step - loss: 0.4033 - accuracy: 0.8296 - val_loss: 0.4042 - val_accuracy: 0.8369\n",
      "Epoch 75/100\n",
      "469/469 [==============================] - 1s 2ms/step - loss: 0.4031 - accuracy: 0.8294 - val_loss: 0.4039 - val_accuracy: 0.8377\n",
      "Epoch 76/100\n",
      "469/469 [==============================] - 1s 2ms/step - loss: 0.4028 - accuracy: 0.8300 - val_loss: 0.4038 - val_accuracy: 0.8377\n",
      "Epoch 77/100\n",
      "469/469 [==============================] - 1s 2ms/step - loss: 0.4026 - accuracy: 0.8305 - val_loss: 0.4035 - val_accuracy: 0.8377\n",
      "Epoch 78/100\n",
      "469/469 [==============================] - 1s 2ms/step - loss: 0.4024 - accuracy: 0.8300 - val_loss: 0.4032 - val_accuracy: 0.8364\n",
      "Epoch 79/100\n",
      "469/469 [==============================] - 1s 2ms/step - loss: 0.4022 - accuracy: 0.8305 - val_loss: 0.4030 - val_accuracy: 0.8364\n",
      "Epoch 80/100\n",
      "469/469 [==============================] - 1s 2ms/step - loss: 0.4021 - accuracy: 0.8305 - val_loss: 0.4029 - val_accuracy: 0.8364\n",
      "Epoch 81/100\n",
      "469/469 [==============================] - 1s 2ms/step - loss: 0.4019 - accuracy: 0.8307 - val_loss: 0.4028 - val_accuracy: 0.8364\n",
      "Epoch 82/100\n",
      "469/469 [==============================] - 1s 2ms/step - loss: 0.4018 - accuracy: 0.8309 - val_loss: 0.4027 - val_accuracy: 0.8364\n",
      "Epoch 83/100\n",
      "469/469 [==============================] - 1s 2ms/step - loss: 0.4016 - accuracy: 0.8315 - val_loss: 0.4027 - val_accuracy: 0.8382\n",
      "Epoch 84/100\n",
      "469/469 [==============================] - 1s 2ms/step - loss: 0.4014 - accuracy: 0.8315 - val_loss: 0.4024 - val_accuracy: 0.8369\n",
      "Epoch 85/100\n",
      "469/469 [==============================] - 1s 2ms/step - loss: 0.4012 - accuracy: 0.8317 - val_loss: 0.4023 - val_accuracy: 0.8377\n",
      "Epoch 86/100\n",
      "469/469 [==============================] - 1s 2ms/step - loss: 0.4009 - accuracy: 0.8326 - val_loss: 0.4022 - val_accuracy: 0.8364\n",
      "Epoch 87/100\n",
      "469/469 [==============================] - 1s 2ms/step - loss: 0.4009 - accuracy: 0.8319 - val_loss: 0.4019 - val_accuracy: 0.8373\n",
      "Epoch 88/100\n",
      "469/469 [==============================] - 1s 2ms/step - loss: 0.4008 - accuracy: 0.8322 - val_loss: 0.4018 - val_accuracy: 0.8369\n",
      "Epoch 89/100\n",
      "469/469 [==============================] - 1s 2ms/step - loss: 0.4005 - accuracy: 0.8328 - val_loss: 0.4016 - val_accuracy: 0.8382\n",
      "Epoch 90/100\n",
      "469/469 [==============================] - 1s 2ms/step - loss: 0.4002 - accuracy: 0.8330 - val_loss: 0.4014 - val_accuracy: 0.8377\n",
      "Epoch 91/100\n",
      "469/469 [==============================] - 1s 2ms/step - loss: 0.4000 - accuracy: 0.8337 - val_loss: 0.4014 - val_accuracy: 0.8373\n",
      "Epoch 92/100\n",
      "469/469 [==============================] - 1s 2ms/step - loss: 0.3998 - accuracy: 0.8330 - val_loss: 0.4013 - val_accuracy: 0.8377\n",
      "Epoch 93/100\n",
      "469/469 [==============================] - 1s 2ms/step - loss: 0.3996 - accuracy: 0.8324 - val_loss: 0.4011 - val_accuracy: 0.8382\n",
      "Epoch 94/100\n",
      "469/469 [==============================] - 1s 2ms/step - loss: 0.3994 - accuracy: 0.8337 - val_loss: 0.4009 - val_accuracy: 0.8377\n",
      "Epoch 95/100\n",
      "469/469 [==============================] - 1s 2ms/step - loss: 0.3992 - accuracy: 0.8330 - val_loss: 0.4009 - val_accuracy: 0.8377\n",
      "Epoch 96/100\n",
      "469/469 [==============================] - 1s 2ms/step - loss: 0.3990 - accuracy: 0.8339 - val_loss: 0.4008 - val_accuracy: 0.8369\n",
      "Epoch 97/100\n",
      "469/469 [==============================] - 1s 2ms/step - loss: 0.3988 - accuracy: 0.8334 - val_loss: 0.4007 - val_accuracy: 0.8373\n",
      "Epoch 98/100\n",
      "469/469 [==============================] - 1s 2ms/step - loss: 0.3986 - accuracy: 0.8349 - val_loss: 0.4005 - val_accuracy: 0.8382\n",
      "Epoch 99/100\n",
      "469/469 [==============================] - 1s 2ms/step - loss: 0.3985 - accuracy: 0.8334 - val_loss: 0.4004 - val_accuracy: 0.8382\n",
      "Epoch 100/100\n",
      "469/469 [==============================] - 1s 2ms/step - loss: 0.3983 - accuracy: 0.8354 - val_loss: 0.4002 - val_accuracy: 0.8373\n"
     ]
    }
   ],
   "source": [
    "# Fitting the ANN to the Training set\n",
    "model_history=classifier.fit(x_train, y_train,validation_split=0.33, batch_size = 10, epochs = 100)"
   ]
  },
  {
   "cell_type": "code",
   "execution_count": 48,
   "id": "ebd4a751",
   "metadata": {},
   "outputs": [
    {
     "name": "stdout",
     "output_type": "stream",
     "text": [
      "94/94 [==============================] - 0s 1ms/step\n"
     ]
    }
   ],
   "source": [
    "# Predicting the Test set results\n",
    "y_pred = classifier.predict(x_test)"
   ]
  },
  {
   "cell_type": "code",
   "execution_count": 26,
   "id": "c32ffd59",
   "metadata": {},
   "outputs": [],
   "source": [
    "y_pred = (y_pred > 0.5) "
   ]
  },
  {
   "cell_type": "code",
   "execution_count": 27,
   "id": "9fdb451c",
   "metadata": {},
   "outputs": [
    {
     "data": {
      "text/plain": [
       "array([[False],\n",
       "       [False],\n",
       "       [False],\n",
       "       ...,\n",
       "       [False],\n",
       "       [False],\n",
       "       [False]])"
      ]
     },
     "execution_count": 27,
     "metadata": {},
     "output_type": "execute_result"
    }
   ],
   "source": [
    "y_pred"
   ]
  },
  {
   "cell_type": "code",
   "execution_count": 28,
   "id": "e5978cac",
   "metadata": {},
   "outputs": [],
   "source": [
    "# Making the Confusion Matrix\n",
    "from sklearn.metrics import confusion_matrix\n",
    "cm = confusion_matrix(y_test, y_pred)"
   ]
  },
  {
   "cell_type": "code",
   "execution_count": 29,
   "id": "d932deca",
   "metadata": {},
   "outputs": [],
   "source": [
    "# Calculate the Accuracy\n",
    "from sklearn.metrics import accuracy_score\n",
    "score=accuracy_score(y_pred,y_test)"
   ]
  },
  {
   "cell_type": "code",
   "execution_count": 30,
   "id": "e9f69f70",
   "metadata": {},
   "outputs": [
    {
     "data": {
      "text/plain": [
       "0.834"
      ]
     },
     "execution_count": 30,
     "metadata": {},
     "output_type": "execute_result"
    }
   ],
   "source": [
    "score"
   ]
  },
  {
   "cell_type": "markdown",
   "id": "cc9fe0dd",
   "metadata": {},
   "source": [
    "#### Other way to find accuracy:"
   ]
  },
  {
   "cell_type": "code",
   "execution_count": 31,
   "id": "1db55126",
   "metadata": {},
   "outputs": [],
   "source": [
    "y_pred_new = [ 1 if i>0.5 else 0  for i in y_pred]"
   ]
  },
  {
   "cell_type": "code",
   "execution_count": 32,
   "id": "92d2886c",
   "metadata": {},
   "outputs": [],
   "source": [
    "# Making the Confusion Matrix\n",
    "from sklearn.metrics import confusion_matrix\n",
    "cm = confusion_matrix(y_test, y_pred)"
   ]
  },
  {
   "cell_type": "code",
   "execution_count": 33,
   "id": "a6e96f1d",
   "metadata": {},
   "outputs": [
    {
     "data": {
      "text/plain": [
       "array([[2306,   97],\n",
       "       [ 401,  196]], dtype=int64)"
      ]
     },
     "execution_count": 33,
     "metadata": {},
     "output_type": "execute_result"
    }
   ],
   "source": [
    "cm"
   ]
  },
  {
   "cell_type": "code",
   "execution_count": 34,
   "id": "b4d4b919",
   "metadata": {},
   "outputs": [],
   "source": [
    "# Calculate the Accuracy\n",
    "from sklearn.metrics import accuracy_score\n",
    "score=accuracy_score(y_pred_new,y_test)"
   ]
  },
  {
   "cell_type": "code",
   "execution_count": 35,
   "id": "d3160a1b",
   "metadata": {},
   "outputs": [
    {
     "data": {
      "text/plain": [
       "0.834"
      ]
     },
     "execution_count": 35,
     "metadata": {},
     "output_type": "execute_result"
    }
   ],
   "source": [
    "score"
   ]
  },
  {
   "cell_type": "markdown",
   "id": "5a7b3d6b",
   "metadata": {},
   "source": [
    "# Trying Other neural network \n",
    "* with one more hidden layer and \n",
    "* different no of neurons and \n",
    "* with he_normal as weights intilization tech"
   ]
  },
  {
   "cell_type": "code",
   "execution_count": 36,
   "id": "e6f91f0a",
   "metadata": {},
   "outputs": [],
   "source": [
    "# Importing the Keras libraries and packages\n",
    "import keras\n",
    "from keras.models import Sequential\n",
    "from keras.layers import Dense\n",
    "from keras.layers import LeakyReLU,PReLU,ELU\n",
    "from keras.layers import Dropout"
   ]
  },
  {
   "cell_type": "code",
   "execution_count": 37,
   "id": "86234c5d",
   "metadata": {},
   "outputs": [],
   "source": [
    "# Initialising the ANN\n",
    "# this is an empty nueral network\n",
    "classifier2 = Sequential()"
   ]
  },
  {
   "cell_type": "code",
   "execution_count": 38,
   "id": "0753c1d6",
   "metadata": {},
   "outputs": [],
   "source": [
    "# Adding the input layer and the first hidden layer\n",
    "#added newly is units = 10 and kernel_initializer='he_normal'\n",
    "classifier2.add(Dense(units = 10,kernel_initializer='he_normal',activation='relu',input_dim = 11))"
   ]
  },
  {
   "cell_type": "code",
   "execution_count": 39,
   "id": "81a24dea",
   "metadata": {},
   "outputs": [],
   "source": [
    "# Adding the 2rd hidden layer\n",
    "#added newly is units = 20 and kernel_initializer='he_normal'\n",
    "classifier2.add(Dense(units = 20,kernel_initializer='he_normal',activation='relu',input_dim = 11))"
   ]
  },
  {
   "cell_type": "code",
   "execution_count": 40,
   "id": "aba5b96d",
   "metadata": {},
   "outputs": [],
   "source": [
    "# Adding the 2rd hidden layer\n",
    "#added newly is units = 15 and kernel_initializer='he_normal'\n",
    "classifier2.add(Dense(units = 15,kernel_initializer='he_normal',activation='relu',input_dim = 11))"
   ]
  },
  {
   "cell_type": "code",
   "execution_count": 50,
   "id": "a12a2b35",
   "metadata": {},
   "outputs": [],
   "source": [
    "# Adding the output layer\n",
    "classifier2.add(Dense(units = 1, kernel_initializer = 'glorot_uniform', activation = 'sigmoid'))"
   ]
  },
  {
   "cell_type": "code",
   "execution_count": 51,
   "id": "d54b1b66",
   "metadata": {},
   "outputs": [
    {
     "name": "stdout",
     "output_type": "stream",
     "text": [
      "Model: \"sequential_1\"\n",
      "_________________________________________________________________\n",
      " Layer (type)                Output Shape              Param #   \n",
      "=================================================================\n",
      " dense_3 (Dense)             (None, 10)                120       \n",
      "                                                                 \n",
      " dense_4 (Dense)             (None, 20)                220       \n",
      "                                                                 \n",
      " dense_5 (Dense)             (None, 15)                315       \n",
      "                                                                 \n",
      " dense_6 (Dense)             (None, 1)                 16        \n",
      "                                                                 \n",
      "=================================================================\n",
      "Total params: 671\n",
      "Trainable params: 671\n",
      "Non-trainable params: 0\n",
      "_________________________________________________________________\n"
     ]
    }
   ],
   "source": [
    "#to get summary about your nueral network\n",
    "classifier2.summary()"
   ]
  },
  {
   "cell_type": "code",
   "execution_count": 52,
   "id": "1bcf46a3",
   "metadata": {},
   "outputs": [],
   "source": [
    "# Compiling the ANN\n",
    "classifier2.compile(optimizer = 'Adamax', loss = 'binary_crossentropy', metrics = ['accuracy'])"
   ]
  },
  {
   "cell_type": "code",
   "execution_count": 53,
   "id": "1f16a496",
   "metadata": {
    "scrolled": true
   },
   "outputs": [
    {
     "name": "stdout",
     "output_type": "stream",
     "text": [
      "Epoch 1/100\n",
      "469/469 [==============================] - 3s 4ms/step - loss: 0.5440 - accuracy: 0.7863 - val_loss: 0.4914 - val_accuracy: 0.7992\n",
      "Epoch 2/100\n",
      "469/469 [==============================] - 1s 3ms/step - loss: 0.4794 - accuracy: 0.7959 - val_loss: 0.4569 - val_accuracy: 0.8100\n",
      "Epoch 3/100\n",
      "469/469 [==============================] - 1s 2ms/step - loss: 0.4555 - accuracy: 0.8053 - val_loss: 0.4405 - val_accuracy: 0.8187\n",
      "Epoch 4/100\n",
      "469/469 [==============================] - 1s 3ms/step - loss: 0.4438 - accuracy: 0.8102 - val_loss: 0.4317 - val_accuracy: 0.8252\n",
      "Epoch 5/100\n",
      "469/469 [==============================] - 1s 3ms/step - loss: 0.4349 - accuracy: 0.8164 - val_loss: 0.4243 - val_accuracy: 0.8260\n",
      "Epoch 6/100\n",
      "469/469 [==============================] - 1s 3ms/step - loss: 0.4286 - accuracy: 0.8185 - val_loss: 0.4166 - val_accuracy: 0.8334\n",
      "Epoch 7/100\n",
      "469/469 [==============================] - 1s 2ms/step - loss: 0.4207 - accuracy: 0.8209 - val_loss: 0.4104 - val_accuracy: 0.8373\n",
      "Epoch 8/100\n",
      "469/469 [==============================] - 1s 2ms/step - loss: 0.4137 - accuracy: 0.8236 - val_loss: 0.4030 - val_accuracy: 0.8403\n",
      "Epoch 9/100\n",
      "469/469 [==============================] - 1s 2ms/step - loss: 0.4075 - accuracy: 0.8290 - val_loss: 0.3965 - val_accuracy: 0.8447\n",
      "Epoch 10/100\n",
      "469/469 [==============================] - 1s 2ms/step - loss: 0.4011 - accuracy: 0.8319 - val_loss: 0.3906 - val_accuracy: 0.8447\n",
      "Epoch 11/100\n",
      "469/469 [==============================] - 1s 2ms/step - loss: 0.3949 - accuracy: 0.8339 - val_loss: 0.3840 - val_accuracy: 0.8503\n",
      "Epoch 12/100\n",
      "469/469 [==============================] - 1s 2ms/step - loss: 0.3894 - accuracy: 0.8362 - val_loss: 0.3805 - val_accuracy: 0.8468\n",
      "Epoch 13/100\n",
      "469/469 [==============================] - 1s 2ms/step - loss: 0.3846 - accuracy: 0.8383 - val_loss: 0.3744 - val_accuracy: 0.8511\n",
      "Epoch 14/100\n",
      "469/469 [==============================] - 1s 2ms/step - loss: 0.3794 - accuracy: 0.8411 - val_loss: 0.3707 - val_accuracy: 0.8533\n",
      "Epoch 15/100\n",
      "469/469 [==============================] - 1s 2ms/step - loss: 0.3752 - accuracy: 0.8426 - val_loss: 0.3654 - val_accuracy: 0.8568\n",
      "Epoch 16/100\n",
      "469/469 [==============================] - 1s 2ms/step - loss: 0.3723 - accuracy: 0.8426 - val_loss: 0.3623 - val_accuracy: 0.8568\n",
      "Epoch 17/100\n",
      "469/469 [==============================] - 1s 2ms/step - loss: 0.3685 - accuracy: 0.8469 - val_loss: 0.3598 - val_accuracy: 0.8568\n",
      "Epoch 18/100\n",
      "469/469 [==============================] - 1s 2ms/step - loss: 0.3661 - accuracy: 0.8460 - val_loss: 0.3582 - val_accuracy: 0.8550\n",
      "Epoch 19/100\n",
      "469/469 [==============================] - 1s 2ms/step - loss: 0.3640 - accuracy: 0.8471 - val_loss: 0.3560 - val_accuracy: 0.8581\n",
      "Epoch 20/100\n",
      "469/469 [==============================] - 1s 2ms/step - loss: 0.3621 - accuracy: 0.8496 - val_loss: 0.3560 - val_accuracy: 0.8576\n",
      "Epoch 21/100\n",
      "469/469 [==============================] - 1s 2ms/step - loss: 0.3604 - accuracy: 0.8501 - val_loss: 0.3534 - val_accuracy: 0.8598\n",
      "Epoch 22/100\n",
      "469/469 [==============================] - 1s 2ms/step - loss: 0.3583 - accuracy: 0.8511 - val_loss: 0.3525 - val_accuracy: 0.8607\n",
      "Epoch 23/100\n",
      "469/469 [==============================] - 1s 2ms/step - loss: 0.3573 - accuracy: 0.8518 - val_loss: 0.3522 - val_accuracy: 0.8611\n",
      "Epoch 24/100\n",
      "469/469 [==============================] - 1s 3ms/step - loss: 0.3563 - accuracy: 0.8526 - val_loss: 0.3519 - val_accuracy: 0.8607\n",
      "Epoch 25/100\n",
      "469/469 [==============================] - 1s 2ms/step - loss: 0.3547 - accuracy: 0.8537 - val_loss: 0.3504 - val_accuracy: 0.8585\n",
      "Epoch 26/100\n",
      "469/469 [==============================] - 1s 3ms/step - loss: 0.3534 - accuracy: 0.8518 - val_loss: 0.3495 - val_accuracy: 0.8594\n",
      "Epoch 27/100\n",
      "469/469 [==============================] - 2s 3ms/step - loss: 0.3527 - accuracy: 0.8543 - val_loss: 0.3487 - val_accuracy: 0.8624\n",
      "Epoch 28/100\n",
      "469/469 [==============================] - 2s 3ms/step - loss: 0.3518 - accuracy: 0.8546 - val_loss: 0.3487 - val_accuracy: 0.8628\n",
      "Epoch 29/100\n",
      "469/469 [==============================] - 2s 4ms/step - loss: 0.3508 - accuracy: 0.8543 - val_loss: 0.3479 - val_accuracy: 0.8624\n",
      "Epoch 30/100\n",
      "469/469 [==============================] - 2s 3ms/step - loss: 0.3498 - accuracy: 0.8552 - val_loss: 0.3475 - val_accuracy: 0.8633\n",
      "Epoch 31/100\n",
      "469/469 [==============================] - 2s 4ms/step - loss: 0.3492 - accuracy: 0.8537 - val_loss: 0.3475 - val_accuracy: 0.8646\n",
      "Epoch 32/100\n",
      "469/469 [==============================] - 2s 3ms/step - loss: 0.3483 - accuracy: 0.8569 - val_loss: 0.3469 - val_accuracy: 0.8650\n",
      "Epoch 33/100\n",
      "469/469 [==============================] - 1s 3ms/step - loss: 0.3474 - accuracy: 0.8541 - val_loss: 0.3460 - val_accuracy: 0.8650\n",
      "Epoch 34/100\n",
      "469/469 [==============================] - 1s 2ms/step - loss: 0.3467 - accuracy: 0.8569 - val_loss: 0.3465 - val_accuracy: 0.8650\n",
      "Epoch 35/100\n",
      "469/469 [==============================] - 2s 3ms/step - loss: 0.3462 - accuracy: 0.8560 - val_loss: 0.3454 - val_accuracy: 0.8654\n",
      "Epoch 36/100\n",
      "469/469 [==============================] - 2s 3ms/step - loss: 0.3451 - accuracy: 0.8569 - val_loss: 0.3452 - val_accuracy: 0.8654\n",
      "Epoch 37/100\n",
      "469/469 [==============================] - 2s 3ms/step - loss: 0.3447 - accuracy: 0.8550 - val_loss: 0.3451 - val_accuracy: 0.8650\n",
      "Epoch 38/100\n",
      "469/469 [==============================] - 2s 3ms/step - loss: 0.3440 - accuracy: 0.8571 - val_loss: 0.3452 - val_accuracy: 0.8646\n",
      "Epoch 39/100\n",
      "469/469 [==============================] - 2s 4ms/step - loss: 0.3433 - accuracy: 0.8571 - val_loss: 0.3433 - val_accuracy: 0.8637\n",
      "Epoch 40/100\n",
      "469/469 [==============================] - 2s 3ms/step - loss: 0.3427 - accuracy: 0.8575 - val_loss: 0.3433 - val_accuracy: 0.8650\n",
      "Epoch 41/100\n",
      "469/469 [==============================] - 2s 4ms/step - loss: 0.3416 - accuracy: 0.8565 - val_loss: 0.3445 - val_accuracy: 0.8650\n",
      "Epoch 42/100\n",
      "469/469 [==============================] - 2s 3ms/step - loss: 0.3415 - accuracy: 0.8580 - val_loss: 0.3425 - val_accuracy: 0.8663\n",
      "Epoch 43/100\n",
      "469/469 [==============================] - 2s 3ms/step - loss: 0.3410 - accuracy: 0.8575 - val_loss: 0.3447 - val_accuracy: 0.8628\n",
      "Epoch 44/100\n",
      "469/469 [==============================] - 1s 2ms/step - loss: 0.3404 - accuracy: 0.8595 - val_loss: 0.3419 - val_accuracy: 0.8663\n",
      "Epoch 45/100\n",
      "469/469 [==============================] - 1s 3ms/step - loss: 0.3399 - accuracy: 0.8580 - val_loss: 0.3420 - val_accuracy: 0.8633\n",
      "Epoch 46/100\n",
      "469/469 [==============================] - 2s 3ms/step - loss: 0.3391 - accuracy: 0.8595 - val_loss: 0.3413 - val_accuracy: 0.8650\n",
      "Epoch 47/100\n",
      "469/469 [==============================] - 2s 3ms/step - loss: 0.3387 - accuracy: 0.8595 - val_loss: 0.3421 - val_accuracy: 0.8624\n",
      "Epoch 48/100\n",
      "469/469 [==============================] - 2s 3ms/step - loss: 0.3381 - accuracy: 0.8601 - val_loss: 0.3414 - val_accuracy: 0.8641\n",
      "Epoch 49/100\n",
      "469/469 [==============================] - 2s 3ms/step - loss: 0.3377 - accuracy: 0.8605 - val_loss: 0.3407 - val_accuracy: 0.8659\n",
      "Epoch 50/100\n",
      "469/469 [==============================] - 2s 4ms/step - loss: 0.3370 - accuracy: 0.8595 - val_loss: 0.3410 - val_accuracy: 0.8667\n",
      "Epoch 51/100\n",
      "469/469 [==============================] - 2s 4ms/step - loss: 0.3369 - accuracy: 0.8599 - val_loss: 0.3403 - val_accuracy: 0.8646\n",
      "Epoch 52/100\n",
      "469/469 [==============================] - 2s 3ms/step - loss: 0.3360 - accuracy: 0.8614 - val_loss: 0.3395 - val_accuracy: 0.8650\n",
      "Epoch 53/100\n",
      "469/469 [==============================] - 2s 4ms/step - loss: 0.3357 - accuracy: 0.8582 - val_loss: 0.3393 - val_accuracy: 0.8685\n",
      "Epoch 54/100\n",
      "469/469 [==============================] - 1s 3ms/step - loss: 0.3357 - accuracy: 0.8622 - val_loss: 0.3393 - val_accuracy: 0.8667\n",
      "Epoch 55/100\n",
      "469/469 [==============================] - 1s 3ms/step - loss: 0.3350 - accuracy: 0.8612 - val_loss: 0.3393 - val_accuracy: 0.8672\n",
      "Epoch 56/100\n",
      "469/469 [==============================] - 2s 3ms/step - loss: 0.3346 - accuracy: 0.8605 - val_loss: 0.3396 - val_accuracy: 0.8685\n",
      "Epoch 57/100\n",
      "469/469 [==============================] - 2s 4ms/step - loss: 0.3338 - accuracy: 0.8614 - val_loss: 0.3405 - val_accuracy: 0.8698\n"
     ]
    },
    {
     "name": "stdout",
     "output_type": "stream",
     "text": [
      "Epoch 58/100\n",
      "469/469 [==============================] - 2s 3ms/step - loss: 0.3331 - accuracy: 0.8620 - val_loss: 0.3393 - val_accuracy: 0.8663\n",
      "Epoch 59/100\n",
      "469/469 [==============================] - 2s 3ms/step - loss: 0.3330 - accuracy: 0.8620 - val_loss: 0.3389 - val_accuracy: 0.8689\n",
      "Epoch 60/100\n",
      "469/469 [==============================] - 2s 3ms/step - loss: 0.3321 - accuracy: 0.8601 - val_loss: 0.3406 - val_accuracy: 0.8672\n",
      "Epoch 61/100\n",
      "469/469 [==============================] - 2s 3ms/step - loss: 0.3321 - accuracy: 0.8624 - val_loss: 0.3393 - val_accuracy: 0.8685\n",
      "Epoch 62/100\n",
      "469/469 [==============================] - 2s 4ms/step - loss: 0.3318 - accuracy: 0.8618 - val_loss: 0.3384 - val_accuracy: 0.8706\n",
      "Epoch 63/100\n",
      "469/469 [==============================] - 2s 4ms/step - loss: 0.3314 - accuracy: 0.8618 - val_loss: 0.3376 - val_accuracy: 0.8680\n",
      "Epoch 64/100\n",
      "469/469 [==============================] - 1s 3ms/step - loss: 0.3315 - accuracy: 0.8618 - val_loss: 0.3375 - val_accuracy: 0.8693\n",
      "Epoch 65/100\n",
      "469/469 [==============================] - 1s 2ms/step - loss: 0.3308 - accuracy: 0.8622 - val_loss: 0.3376 - val_accuracy: 0.8689\n",
      "Epoch 66/100\n",
      "469/469 [==============================] - 1s 3ms/step - loss: 0.3299 - accuracy: 0.8637 - val_loss: 0.3396 - val_accuracy: 0.8663\n",
      "Epoch 67/100\n",
      "469/469 [==============================] - 2s 3ms/step - loss: 0.3301 - accuracy: 0.8637 - val_loss: 0.3376 - val_accuracy: 0.8680\n",
      "Epoch 68/100\n",
      "469/469 [==============================] - 2s 4ms/step - loss: 0.3298 - accuracy: 0.8627 - val_loss: 0.3375 - val_accuracy: 0.8689\n",
      "Epoch 69/100\n",
      "469/469 [==============================] - 2s 4ms/step - loss: 0.3294 - accuracy: 0.8635 - val_loss: 0.3379 - val_accuracy: 0.8676\n",
      "Epoch 70/100\n",
      "469/469 [==============================] - 2s 4ms/step - loss: 0.3289 - accuracy: 0.8646 - val_loss: 0.3375 - val_accuracy: 0.8676\n",
      "Epoch 71/100\n",
      "469/469 [==============================] - 1s 3ms/step - loss: 0.3282 - accuracy: 0.8669 - val_loss: 0.3378 - val_accuracy: 0.8719\n",
      "Epoch 72/100\n",
      "469/469 [==============================] - 2s 3ms/step - loss: 0.3284 - accuracy: 0.8656 - val_loss: 0.3362 - val_accuracy: 0.8689\n",
      "Epoch 73/100\n",
      "469/469 [==============================] - 1s 3ms/step - loss: 0.3280 - accuracy: 0.8627 - val_loss: 0.3383 - val_accuracy: 0.8689\n",
      "Epoch 74/100\n",
      "469/469 [==============================] - 1s 3ms/step - loss: 0.3280 - accuracy: 0.8631 - val_loss: 0.3375 - val_accuracy: 0.8719\n",
      "Epoch 75/100\n",
      "469/469 [==============================] - 1s 2ms/step - loss: 0.3271 - accuracy: 0.8650 - val_loss: 0.3383 - val_accuracy: 0.8711\n",
      "Epoch 76/100\n",
      "469/469 [==============================] - 1s 2ms/step - loss: 0.3270 - accuracy: 0.8648 - val_loss: 0.3367 - val_accuracy: 0.8693\n",
      "Epoch 77/100\n",
      "469/469 [==============================] - 1s 3ms/step - loss: 0.3268 - accuracy: 0.8639 - val_loss: 0.3364 - val_accuracy: 0.8711\n",
      "Epoch 78/100\n",
      "469/469 [==============================] - 2s 3ms/step - loss: 0.3265 - accuracy: 0.8652 - val_loss: 0.3363 - val_accuracy: 0.8693\n",
      "Epoch 79/100\n",
      "469/469 [==============================] - 2s 3ms/step - loss: 0.3259 - accuracy: 0.8642 - val_loss: 0.3364 - val_accuracy: 0.8698\n",
      "Epoch 80/100\n",
      "469/469 [==============================] - 2s 4ms/step - loss: 0.3259 - accuracy: 0.8646 - val_loss: 0.3366 - val_accuracy: 0.8715\n",
      "Epoch 81/100\n",
      "469/469 [==============================] - 1s 3ms/step - loss: 0.3255 - accuracy: 0.8635 - val_loss: 0.3371 - val_accuracy: 0.8693\n",
      "Epoch 82/100\n",
      "469/469 [==============================] - 1s 3ms/step - loss: 0.3251 - accuracy: 0.8663 - val_loss: 0.3388 - val_accuracy: 0.8706\n",
      "Epoch 83/100\n",
      "469/469 [==============================] - 1s 3ms/step - loss: 0.3252 - accuracy: 0.8659 - val_loss: 0.3372 - val_accuracy: 0.8702\n",
      "Epoch 84/100\n",
      "469/469 [==============================] - 1s 3ms/step - loss: 0.3245 - accuracy: 0.8669 - val_loss: 0.3369 - val_accuracy: 0.8702\n",
      "Epoch 85/100\n",
      "469/469 [==============================] - 2s 3ms/step - loss: 0.3249 - accuracy: 0.8635 - val_loss: 0.3368 - val_accuracy: 0.8715\n",
      "Epoch 86/100\n",
      "469/469 [==============================] - 1s 3ms/step - loss: 0.3244 - accuracy: 0.8648 - val_loss: 0.3364 - val_accuracy: 0.8719\n",
      "Epoch 87/100\n",
      "469/469 [==============================] - 1s 2ms/step - loss: 0.3242 - accuracy: 0.8656 - val_loss: 0.3380 - val_accuracy: 0.8676\n",
      "Epoch 88/100\n",
      "469/469 [==============================] - 1s 3ms/step - loss: 0.3236 - accuracy: 0.8650 - val_loss: 0.3367 - val_accuracy: 0.8719\n",
      "Epoch 89/100\n",
      "469/469 [==============================] - 1s 3ms/step - loss: 0.3235 - accuracy: 0.8654 - val_loss: 0.3367 - val_accuracy: 0.8719\n",
      "Epoch 90/100\n",
      "469/469 [==============================] - 1s 3ms/step - loss: 0.3231 - accuracy: 0.8661 - val_loss: 0.3374 - val_accuracy: 0.8715\n",
      "Epoch 91/100\n",
      "469/469 [==============================] - 2s 3ms/step - loss: 0.3233 - accuracy: 0.8673 - val_loss: 0.3371 - val_accuracy: 0.8706\n",
      "Epoch 92/100\n",
      "469/469 [==============================] - 2s 3ms/step - loss: 0.3229 - accuracy: 0.8661 - val_loss: 0.3374 - val_accuracy: 0.8719\n",
      "Epoch 93/100\n",
      "469/469 [==============================] - 2s 3ms/step - loss: 0.3227 - accuracy: 0.8663 - val_loss: 0.3377 - val_accuracy: 0.8702\n",
      "Epoch 94/100\n",
      "469/469 [==============================] - 2s 3ms/step - loss: 0.3221 - accuracy: 0.8659 - val_loss: 0.3390 - val_accuracy: 0.8672\n",
      "Epoch 95/100\n",
      "469/469 [==============================] - 1s 3ms/step - loss: 0.3221 - accuracy: 0.8659 - val_loss: 0.3373 - val_accuracy: 0.8698\n",
      "Epoch 96/100\n",
      "469/469 [==============================] - 1s 3ms/step - loss: 0.3217 - accuracy: 0.8654 - val_loss: 0.3384 - val_accuracy: 0.8702\n",
      "Epoch 97/100\n",
      "469/469 [==============================] - 1s 3ms/step - loss: 0.3218 - accuracy: 0.8659 - val_loss: 0.3377 - val_accuracy: 0.8689\n",
      "Epoch 98/100\n",
      "469/469 [==============================] - 1s 2ms/step - loss: 0.3216 - accuracy: 0.8639 - val_loss: 0.3384 - val_accuracy: 0.8702\n",
      "Epoch 99/100\n",
      "469/469 [==============================] - 1s 3ms/step - loss: 0.3211 - accuracy: 0.8667 - val_loss: 0.3378 - val_accuracy: 0.8698\n",
      "Epoch 100/100\n",
      "469/469 [==============================] - 2s 3ms/step - loss: 0.3212 - accuracy: 0.8654 - val_loss: 0.3376 - val_accuracy: 0.8711\n"
     ]
    }
   ],
   "source": [
    "# Fitting the ANN to the Training set\n",
    "model_history=classifier2.fit(x_train, y_train,validation_split=0.33, batch_size = 10, epochs = 100)"
   ]
  },
  {
   "cell_type": "code",
   "execution_count": 60,
   "id": "1edb6c1a",
   "metadata": {},
   "outputs": [
    {
     "name": "stdout",
     "output_type": "stream",
     "text": [
      "94/94 [==============================] - 0s 2ms/step\n"
     ]
    }
   ],
   "source": [
    "y_new_pred = classifier2.predict(x_test)"
   ]
  },
  {
   "cell_type": "code",
   "execution_count": 62,
   "id": "d046e398",
   "metadata": {},
   "outputs": [
    {
     "data": {
      "text/plain": [
       "array([[0.0299222 ],\n",
       "       [0.02599549],\n",
       "       [0.06263547],\n",
       "       ...,\n",
       "       [0.0852984 ],\n",
       "       [0.01223585],\n",
       "       [0.04570496]], dtype=float32)"
      ]
     },
     "execution_count": 62,
     "metadata": {},
     "output_type": "execute_result"
    }
   ],
   "source": [
    "y_new_pred"
   ]
  },
  {
   "cell_type": "code",
   "execution_count": 63,
   "id": "294d3aa3",
   "metadata": {},
   "outputs": [],
   "source": [
    "y_new_pred = (y_new_pred > 0.5)"
   ]
  },
  {
   "cell_type": "code",
   "execution_count": 64,
   "id": "5f65a3ed",
   "metadata": {},
   "outputs": [
    {
     "data": {
      "text/plain": [
       "array([[False],\n",
       "       [False],\n",
       "       [False],\n",
       "       ...,\n",
       "       [False],\n",
       "       [False],\n",
       "       [False]])"
      ]
     },
     "execution_count": 64,
     "metadata": {},
     "output_type": "execute_result"
    }
   ],
   "source": [
    "y_new_pred"
   ]
  },
  {
   "cell_type": "code",
   "execution_count": 67,
   "id": "86482863",
   "metadata": {},
   "outputs": [
    {
     "data": {
      "text/plain": [
       "array([[2282,  121],\n",
       "       [ 330,  267]], dtype=int64)"
      ]
     },
     "execution_count": 67,
     "metadata": {},
     "output_type": "execute_result"
    }
   ],
   "source": [
    "# Making the Confusion Matrix\n",
    "from sklearn.metrics import confusion_matrix\n",
    "cm = confusion_matrix(y_test, y_new_pred)\n",
    "cm"
   ]
  },
  {
   "cell_type": "code",
   "execution_count": 68,
   "id": "54290a28",
   "metadata": {},
   "outputs": [
    {
     "data": {
      "text/plain": [
       "0.8496666666666667"
      ]
     },
     "execution_count": 68,
     "metadata": {},
     "output_type": "execute_result"
    }
   ],
   "source": [
    "# Calculate the Accuracy\n",
    "from sklearn.metrics import accuracy_score\n",
    "score=accuracy_score(y_pred_new,y_test)\n",
    "score"
   ]
  },
  {
   "cell_type": "markdown",
   "id": "f9819f3e",
   "metadata": {},
   "source": [
    "#### Note :\n",
    "* Almost we got same accuracy as we got before.\n",
    "* but dont increse the no of hidden layers it may cause to over fitting problem"
   ]
  },
  {
   "cell_type": "markdown",
   "id": "44fe18bb",
   "metadata": {},
   "source": [
    "# By using dropout :\n",
    "* Dropout is regulization parameter that we can use when we have nn quite deep}"
   ]
  },
  {
   "cell_type": "code",
   "execution_count": 69,
   "id": "d984289b",
   "metadata": {},
   "outputs": [],
   "source": [
    "# Importing the Keras libraries and packages\n",
    "import keras\n",
    "from keras.models import Sequential\n",
    "from keras.layers import Dense\n",
    "from keras.layers import LeakyReLU,PReLU,ELU\n",
    "from keras.layers import Dropout"
   ]
  },
  {
   "cell_type": "code",
   "execution_count": 70,
   "id": "1ba3827e",
   "metadata": {},
   "outputs": [],
   "source": [
    "# Initialising the ANN\n",
    "# this is an empty nueral network\n",
    "classifier = Sequential()"
   ]
  },
  {
   "cell_type": "code",
   "execution_count": 71,
   "id": "590b078a",
   "metadata": {},
   "outputs": [],
   "source": [
    "# Adding the input layer and the first hidden layer\n",
    "#added newly is units = 10 and kernel_initializer='he_normal'\n",
    "classifier.add(Dense(units = 10,kernel_initializer='he_normal',activation='relu',input_dim = 11))\n",
    "classifier.add(Dropout(0.3))"
   ]
  },
  {
   "cell_type": "code",
   "execution_count": 72,
   "id": "4914e097",
   "metadata": {},
   "outputs": [],
   "source": [
    "# Adding the 2rd hidden layer\n",
    "#added newly is units = 20 and kernel_initializer='he_normal'\n",
    "classifier.add(Dense(units = 20,kernel_initializer='he_normal',activation='relu',input_dim = 11))\n",
    "classifier.add(Dropout(0.4))"
   ]
  },
  {
   "cell_type": "code",
   "execution_count": 73,
   "id": "ae3914e3",
   "metadata": {},
   "outputs": [],
   "source": [
    "# Adding the 2rd hidden layer\n",
    "#added newly is units = 15 and kernel_initializer='he_normal'\n",
    "classifier.add(Dense(units = 15,kernel_initializer='he_normal',activation='relu',input_dim = 11))\n",
    "classifier.add(Dropout(0.2))"
   ]
  },
  {
   "cell_type": "code",
   "execution_count": 75,
   "id": "c0cd2fc3",
   "metadata": {},
   "outputs": [],
   "source": [
    "# Adding the output layer\n",
    "classifier.add(Dense(units = 1, kernel_initializer = 'glorot_uniform', activation = 'sigmoid'))"
   ]
  },
  {
   "cell_type": "code",
   "execution_count": 76,
   "id": "80e56c6b",
   "metadata": {},
   "outputs": [
    {
     "name": "stdout",
     "output_type": "stream",
     "text": [
      "Model: \"sequential_2\"\n",
      "_________________________________________________________________\n",
      " Layer (type)                Output Shape              Param #   \n",
      "=================================================================\n",
      " dense_7 (Dense)             (None, 10)                120       \n",
      "                                                                 \n",
      " dropout (Dropout)           (None, 10)                0         \n",
      "                                                                 \n",
      " dense_8 (Dense)             (None, 20)                220       \n",
      "                                                                 \n",
      " dropout_1 (Dropout)         (None, 20)                0         \n",
      "                                                                 \n",
      " dense_9 (Dense)             (None, 15)                315       \n",
      "                                                                 \n",
      " dropout_2 (Dropout)         (None, 15)                0         \n",
      "                                                                 \n",
      " dense_10 (Dense)            (None, 1)                 16        \n",
      "                                                                 \n",
      "=================================================================\n",
      "Total params: 671\n",
      "Trainable params: 671\n",
      "Non-trainable params: 0\n",
      "_________________________________________________________________\n"
     ]
    }
   ],
   "source": [
    "#to get summary about your nueral network\n",
    "classifier.summary()"
   ]
  },
  {
   "cell_type": "code",
   "execution_count": 77,
   "id": "23d279cb",
   "metadata": {},
   "outputs": [],
   "source": [
    "# Compiling the ANN\n",
    "classifier.compile(optimizer = 'Adamax', loss = 'binary_crossentropy', metrics = ['accuracy'])"
   ]
  },
  {
   "cell_type": "code",
   "execution_count": 78,
   "id": "38c76475",
   "metadata": {
    "scrolled": true
   },
   "outputs": [
    {
     "name": "stdout",
     "output_type": "stream",
     "text": [
      "Epoch 1/100\n",
      "469/469 [==============================] - 2s 3ms/step - loss: 0.6432 - accuracy: 0.7370 - val_loss: 0.5123 - val_accuracy: 0.7992\n",
      "Epoch 2/100\n",
      "469/469 [==============================] - 2s 3ms/step - loss: 0.5809 - accuracy: 0.7660 - val_loss: 0.4999 - val_accuracy: 0.7992\n",
      "Epoch 3/100\n",
      "469/469 [==============================] - 1s 3ms/step - loss: 0.5613 - accuracy: 0.7739 - val_loss: 0.4900 - val_accuracy: 0.8014\n",
      "Epoch 4/100\n",
      "469/469 [==============================] - 1s 3ms/step - loss: 0.5376 - accuracy: 0.7823 - val_loss: 0.4832 - val_accuracy: 0.8035\n",
      "Epoch 5/100\n",
      "469/469 [==============================] - 1s 3ms/step - loss: 0.5242 - accuracy: 0.7857 - val_loss: 0.4767 - val_accuracy: 0.8031\n",
      "Epoch 6/100\n",
      "469/469 [==============================] - 1s 3ms/step - loss: 0.5228 - accuracy: 0.7852 - val_loss: 0.4745 - val_accuracy: 0.8023\n",
      "Epoch 7/100\n",
      "469/469 [==============================] - 1s 3ms/step - loss: 0.5102 - accuracy: 0.7884 - val_loss: 0.4688 - val_accuracy: 0.8031\n",
      "Epoch 8/100\n",
      "469/469 [==============================] - 1s 3ms/step - loss: 0.5030 - accuracy: 0.7921 - val_loss: 0.4659 - val_accuracy: 0.8070\n",
      "Epoch 9/100\n",
      "469/469 [==============================] - 2s 3ms/step - loss: 0.4953 - accuracy: 0.7933 - val_loss: 0.4617 - val_accuracy: 0.8066\n",
      "Epoch 10/100\n",
      "469/469 [==============================] - 1s 3ms/step - loss: 0.5015 - accuracy: 0.7899 - val_loss: 0.4611 - val_accuracy: 0.8057\n",
      "Epoch 11/100\n",
      "469/469 [==============================] - 1s 2ms/step - loss: 0.4934 - accuracy: 0.7927 - val_loss: 0.4590 - val_accuracy: 0.8057\n",
      "Epoch 12/100\n",
      "469/469 [==============================] - 1s 2ms/step - loss: 0.4945 - accuracy: 0.7923 - val_loss: 0.4579 - val_accuracy: 0.8053\n",
      "Epoch 13/100\n",
      "469/469 [==============================] - 1s 2ms/step - loss: 0.4905 - accuracy: 0.7953 - val_loss: 0.4563 - val_accuracy: 0.8066\n",
      "Epoch 14/100\n",
      "469/469 [==============================] - 1s 3ms/step - loss: 0.4784 - accuracy: 0.7940 - val_loss: 0.4521 - val_accuracy: 0.8061\n",
      "Epoch 15/100\n",
      "469/469 [==============================] - 1s 3ms/step - loss: 0.4799 - accuracy: 0.7959 - val_loss: 0.4499 - val_accuracy: 0.8066\n",
      "Epoch 16/100\n",
      "469/469 [==============================] - 1s 3ms/step - loss: 0.4798 - accuracy: 0.7931 - val_loss: 0.4484 - val_accuracy: 0.8066\n",
      "Epoch 17/100\n",
      "469/469 [==============================] - 2s 3ms/step - loss: 0.4820 - accuracy: 0.7936 - val_loss: 0.4465 - val_accuracy: 0.8087\n",
      "Epoch 18/100\n",
      "469/469 [==============================] - 1s 3ms/step - loss: 0.4778 - accuracy: 0.7948 - val_loss: 0.4452 - val_accuracy: 0.8079\n",
      "Epoch 19/100\n",
      "469/469 [==============================] - 1s 3ms/step - loss: 0.4728 - accuracy: 0.7961 - val_loss: 0.4436 - val_accuracy: 0.8092\n",
      "Epoch 20/100\n",
      "469/469 [==============================] - 1s 3ms/step - loss: 0.4721 - accuracy: 0.7942 - val_loss: 0.4419 - val_accuracy: 0.8079\n",
      "Epoch 21/100\n",
      "469/469 [==============================] - 1s 3ms/step - loss: 0.4752 - accuracy: 0.7948 - val_loss: 0.4417 - val_accuracy: 0.8087\n",
      "Epoch 22/100\n",
      "469/469 [==============================] - 1s 3ms/step - loss: 0.4696 - accuracy: 0.7919 - val_loss: 0.4392 - val_accuracy: 0.8092\n",
      "Epoch 23/100\n",
      "469/469 [==============================] - 1s 3ms/step - loss: 0.4728 - accuracy: 0.7940 - val_loss: 0.4385 - val_accuracy: 0.8096\n",
      "Epoch 24/100\n",
      "469/469 [==============================] - 1s 2ms/step - loss: 0.4674 - accuracy: 0.8000 - val_loss: 0.4381 - val_accuracy: 0.8113\n",
      "Epoch 25/100\n",
      "469/469 [==============================] - 1s 3ms/step - loss: 0.4655 - accuracy: 0.7936 - val_loss: 0.4362 - val_accuracy: 0.8096\n",
      "Epoch 26/100\n",
      "469/469 [==============================] - 1s 3ms/step - loss: 0.4649 - accuracy: 0.7946 - val_loss: 0.4363 - val_accuracy: 0.8109\n",
      "Epoch 27/100\n",
      "469/469 [==============================] - 1s 3ms/step - loss: 0.4614 - accuracy: 0.7963 - val_loss: 0.4348 - val_accuracy: 0.8105\n",
      "Epoch 28/100\n",
      "469/469 [==============================] - 2s 3ms/step - loss: 0.4690 - accuracy: 0.7942 - val_loss: 0.4368 - val_accuracy: 0.8092\n",
      "Epoch 29/100\n",
      "469/469 [==============================] - 1s 3ms/step - loss: 0.4675 - accuracy: 0.7948 - val_loss: 0.4362 - val_accuracy: 0.8087\n",
      "Epoch 30/100\n",
      "469/469 [==============================] - 1s 3ms/step - loss: 0.4628 - accuracy: 0.7980 - val_loss: 0.4342 - val_accuracy: 0.8092\n",
      "Epoch 31/100\n",
      "469/469 [==============================] - 1s 3ms/step - loss: 0.4592 - accuracy: 0.7951 - val_loss: 0.4335 - val_accuracy: 0.8126\n",
      "Epoch 32/100\n",
      "469/469 [==============================] - 1s 3ms/step - loss: 0.4616 - accuracy: 0.7970 - val_loss: 0.4327 - val_accuracy: 0.8079\n",
      "Epoch 33/100\n",
      "469/469 [==============================] - 1s 3ms/step - loss: 0.4541 - accuracy: 0.7957 - val_loss: 0.4313 - val_accuracy: 0.8083\n",
      "Epoch 34/100\n",
      "469/469 [==============================] - 1s 3ms/step - loss: 0.4597 - accuracy: 0.7936 - val_loss: 0.4314 - val_accuracy: 0.8083\n",
      "Epoch 35/100\n",
      "469/469 [==============================] - 1s 2ms/step - loss: 0.4583 - accuracy: 0.7970 - val_loss: 0.4309 - val_accuracy: 0.8122\n",
      "Epoch 36/100\n",
      "469/469 [==============================] - 1s 2ms/step - loss: 0.4564 - accuracy: 0.7974 - val_loss: 0.4309 - val_accuracy: 0.8118\n",
      "Epoch 37/100\n",
      "469/469 [==============================] - 1s 3ms/step - loss: 0.4552 - accuracy: 0.7970 - val_loss: 0.4299 - val_accuracy: 0.8135\n",
      "Epoch 38/100\n",
      "469/469 [==============================] - 2s 3ms/step - loss: 0.4552 - accuracy: 0.7997 - val_loss: 0.4295 - val_accuracy: 0.8139\n",
      "Epoch 39/100\n",
      "469/469 [==============================] - 1s 3ms/step - loss: 0.4518 - accuracy: 0.7974 - val_loss: 0.4286 - val_accuracy: 0.8135\n",
      "Epoch 40/100\n",
      "469/469 [==============================] - 1s 3ms/step - loss: 0.4519 - accuracy: 0.7942 - val_loss: 0.4280 - val_accuracy: 0.8135\n",
      "Epoch 41/100\n",
      "469/469 [==============================] - 2s 3ms/step - loss: 0.4565 - accuracy: 0.7953 - val_loss: 0.4289 - val_accuracy: 0.8131\n",
      "Epoch 42/100\n",
      "469/469 [==============================] - 2s 3ms/step - loss: 0.4553 - accuracy: 0.7985 - val_loss: 0.4288 - val_accuracy: 0.8131\n",
      "Epoch 43/100\n",
      "469/469 [==============================] - 2s 3ms/step - loss: 0.4488 - accuracy: 0.7948 - val_loss: 0.4278 - val_accuracy: 0.8126\n",
      "Epoch 44/100\n",
      "469/469 [==============================] - 1s 3ms/step - loss: 0.4506 - accuracy: 0.7955 - val_loss: 0.4276 - val_accuracy: 0.8122\n",
      "Epoch 45/100\n",
      "469/469 [==============================] - 2s 3ms/step - loss: 0.4594 - accuracy: 0.7959 - val_loss: 0.4290 - val_accuracy: 0.8131\n",
      "Epoch 46/100\n",
      "469/469 [==============================] - 1s 2ms/step - loss: 0.4497 - accuracy: 0.7961 - val_loss: 0.4291 - val_accuracy: 0.8122\n",
      "Epoch 47/100\n",
      "469/469 [==============================] - 1s 2ms/step - loss: 0.4461 - accuracy: 0.8004 - val_loss: 0.4272 - val_accuracy: 0.8126\n",
      "Epoch 48/100\n",
      "469/469 [==============================] - 1s 3ms/step - loss: 0.4510 - accuracy: 0.7987 - val_loss: 0.4276 - val_accuracy: 0.8126\n",
      "Epoch 49/100\n",
      "469/469 [==============================] - 1s 3ms/step - loss: 0.4511 - accuracy: 0.7974 - val_loss: 0.4262 - val_accuracy: 0.8131\n",
      "Epoch 50/100\n",
      "469/469 [==============================] - 1s 3ms/step - loss: 0.4499 - accuracy: 0.7972 - val_loss: 0.4266 - val_accuracy: 0.8131\n",
      "Epoch 51/100\n",
      "469/469 [==============================] - 1s 3ms/step - loss: 0.4517 - accuracy: 0.7978 - val_loss: 0.4257 - val_accuracy: 0.8131\n",
      "Epoch 52/100\n",
      "469/469 [==============================] - 1s 3ms/step - loss: 0.4482 - accuracy: 0.8000 - val_loss: 0.4262 - val_accuracy: 0.8131\n",
      "Epoch 53/100\n",
      "469/469 [==============================] - 1s 3ms/step - loss: 0.4431 - accuracy: 0.7976 - val_loss: 0.4250 - val_accuracy: 0.8135\n",
      "Epoch 54/100\n",
      "469/469 [==============================] - 2s 3ms/step - loss: 0.4518 - accuracy: 0.7987 - val_loss: 0.4255 - val_accuracy: 0.8131\n",
      "Epoch 55/100\n",
      "469/469 [==============================] - 2s 3ms/step - loss: 0.4460 - accuracy: 0.7951 - val_loss: 0.4244 - val_accuracy: 0.8113\n",
      "Epoch 56/100\n",
      "469/469 [==============================] - 1s 3ms/step - loss: 0.4408 - accuracy: 0.8000 - val_loss: 0.4239 - val_accuracy: 0.8131\n",
      "Epoch 57/100\n",
      "469/469 [==============================] - 1s 3ms/step - loss: 0.4439 - accuracy: 0.7974 - val_loss: 0.4231 - val_accuracy: 0.8131\n"
     ]
    },
    {
     "name": "stdout",
     "output_type": "stream",
     "text": [
      "Epoch 58/100\n",
      "469/469 [==============================] - 1s 2ms/step - loss: 0.4478 - accuracy: 0.7976 - val_loss: 0.4232 - val_accuracy: 0.8131\n",
      "Epoch 59/100\n",
      "469/469 [==============================] - 1s 3ms/step - loss: 0.4418 - accuracy: 0.7995 - val_loss: 0.4224 - val_accuracy: 0.8126\n",
      "Epoch 60/100\n",
      "469/469 [==============================] - 2s 4ms/step - loss: 0.4485 - accuracy: 0.8002 - val_loss: 0.4224 - val_accuracy: 0.8135\n",
      "Epoch 61/100\n",
      "469/469 [==============================] - 2s 4ms/step - loss: 0.4470 - accuracy: 0.7987 - val_loss: 0.4223 - val_accuracy: 0.8126\n",
      "Epoch 62/100\n",
      "469/469 [==============================] - 2s 3ms/step - loss: 0.4468 - accuracy: 0.7976 - val_loss: 0.4222 - val_accuracy: 0.8131\n",
      "Epoch 63/100\n",
      "469/469 [==============================] - 1s 3ms/step - loss: 0.4400 - accuracy: 0.8004 - val_loss: 0.4205 - val_accuracy: 0.8131\n",
      "Epoch 64/100\n",
      "469/469 [==============================] - 2s 3ms/step - loss: 0.4449 - accuracy: 0.8021 - val_loss: 0.4195 - val_accuracy: 0.8122\n",
      "Epoch 65/100\n",
      "469/469 [==============================] - 2s 3ms/step - loss: 0.4439 - accuracy: 0.8032 - val_loss: 0.4198 - val_accuracy: 0.8139\n",
      "Epoch 66/100\n",
      "469/469 [==============================] - 2s 3ms/step - loss: 0.4387 - accuracy: 0.8046 - val_loss: 0.4179 - val_accuracy: 0.8122\n",
      "Epoch 67/100\n",
      "469/469 [==============================] - 1s 3ms/step - loss: 0.4412 - accuracy: 0.7985 - val_loss: 0.4167 - val_accuracy: 0.8126\n",
      "Epoch 68/100\n",
      "469/469 [==============================] - 1s 2ms/step - loss: 0.4421 - accuracy: 0.7987 - val_loss: 0.4169 - val_accuracy: 0.8131\n",
      "Epoch 69/100\n",
      "469/469 [==============================] - 1s 2ms/step - loss: 0.4389 - accuracy: 0.8059 - val_loss: 0.4153 - val_accuracy: 0.8139\n",
      "Epoch 70/100\n",
      "469/469 [==============================] - 2s 3ms/step - loss: 0.4373 - accuracy: 0.8017 - val_loss: 0.4139 - val_accuracy: 0.8135\n",
      "Epoch 71/100\n",
      "469/469 [==============================] - 2s 4ms/step - loss: 0.4378 - accuracy: 0.8076 - val_loss: 0.4136 - val_accuracy: 0.8131\n",
      "Epoch 72/100\n",
      "469/469 [==============================] - 1s 3ms/step - loss: 0.4376 - accuracy: 0.8059 - val_loss: 0.4126 - val_accuracy: 0.8144\n",
      "Epoch 73/100\n",
      "469/469 [==============================] - 1s 3ms/step - loss: 0.4316 - accuracy: 0.8046 - val_loss: 0.4100 - val_accuracy: 0.8139\n",
      "Epoch 74/100\n",
      "469/469 [==============================] - 1s 3ms/step - loss: 0.4386 - accuracy: 0.8046 - val_loss: 0.4108 - val_accuracy: 0.8144\n",
      "Epoch 75/100\n",
      "469/469 [==============================] - 2s 3ms/step - loss: 0.4363 - accuracy: 0.8029 - val_loss: 0.4107 - val_accuracy: 0.8148\n",
      "Epoch 76/100\n",
      "469/469 [==============================] - 1s 3ms/step - loss: 0.4368 - accuracy: 0.8040 - val_loss: 0.4094 - val_accuracy: 0.8148\n",
      "Epoch 77/100\n",
      "469/469 [==============================] - 1s 3ms/step - loss: 0.4402 - accuracy: 0.8025 - val_loss: 0.4094 - val_accuracy: 0.8152\n",
      "Epoch 78/100\n",
      "469/469 [==============================] - 1s 3ms/step - loss: 0.4325 - accuracy: 0.8061 - val_loss: 0.4074 - val_accuracy: 0.8157\n",
      "Epoch 79/100\n",
      "469/469 [==============================] - 1s 2ms/step - loss: 0.4363 - accuracy: 0.8093 - val_loss: 0.4074 - val_accuracy: 0.8170\n",
      "Epoch 80/100\n",
      "469/469 [==============================] - 1s 2ms/step - loss: 0.4348 - accuracy: 0.8072 - val_loss: 0.4072 - val_accuracy: 0.8174\n",
      "Epoch 81/100\n",
      "469/469 [==============================] - 1s 2ms/step - loss: 0.4309 - accuracy: 0.8059 - val_loss: 0.4054 - val_accuracy: 0.8174\n",
      "Epoch 82/100\n",
      "469/469 [==============================] - 1s 3ms/step - loss: 0.4343 - accuracy: 0.8068 - val_loss: 0.4036 - val_accuracy: 0.8187\n",
      "Epoch 83/100\n",
      "469/469 [==============================] - 1s 2ms/step - loss: 0.4358 - accuracy: 0.8093 - val_loss: 0.4038 - val_accuracy: 0.8174\n",
      "Epoch 84/100\n",
      "469/469 [==============================] - 1s 3ms/step - loss: 0.4336 - accuracy: 0.8055 - val_loss: 0.4021 - val_accuracy: 0.8178\n",
      "Epoch 85/100\n",
      "469/469 [==============================] - 1s 3ms/step - loss: 0.4340 - accuracy: 0.8072 - val_loss: 0.4030 - val_accuracy: 0.8196\n",
      "Epoch 86/100\n",
      "469/469 [==============================] - 1s 3ms/step - loss: 0.4255 - accuracy: 0.8153 - val_loss: 0.4002 - val_accuracy: 0.8235\n",
      "Epoch 87/100\n",
      "469/469 [==============================] - 1s 3ms/step - loss: 0.4242 - accuracy: 0.8098 - val_loss: 0.3987 - val_accuracy: 0.8239\n",
      "Epoch 88/100\n",
      "469/469 [==============================] - 1s 3ms/step - loss: 0.4316 - accuracy: 0.8098 - val_loss: 0.3987 - val_accuracy: 0.8243\n",
      "Epoch 89/100\n",
      "469/469 [==============================] - 2s 3ms/step - loss: 0.4353 - accuracy: 0.8042 - val_loss: 0.4008 - val_accuracy: 0.8239\n",
      "Epoch 90/100\n",
      "469/469 [==============================] - 1s 3ms/step - loss: 0.4242 - accuracy: 0.8153 - val_loss: 0.3990 - val_accuracy: 0.8248\n",
      "Epoch 91/100\n",
      "469/469 [==============================] - 1s 3ms/step - loss: 0.4211 - accuracy: 0.8151 - val_loss: 0.3979 - val_accuracy: 0.8235\n",
      "Epoch 92/100\n",
      "469/469 [==============================] - 1s 2ms/step - loss: 0.4252 - accuracy: 0.8170 - val_loss: 0.3961 - val_accuracy: 0.8252\n",
      "Epoch 93/100\n",
      "469/469 [==============================] - 1s 2ms/step - loss: 0.4213 - accuracy: 0.8138 - val_loss: 0.3948 - val_accuracy: 0.8278\n",
      "Epoch 94/100\n",
      "469/469 [==============================] - 1s 3ms/step - loss: 0.4216 - accuracy: 0.8140 - val_loss: 0.3945 - val_accuracy: 0.8278\n",
      "Epoch 95/100\n",
      "469/469 [==============================] - 1s 3ms/step - loss: 0.4259 - accuracy: 0.8104 - val_loss: 0.3949 - val_accuracy: 0.8278\n",
      "Epoch 96/100\n",
      "469/469 [==============================] - 2s 3ms/step - loss: 0.4233 - accuracy: 0.8170 - val_loss: 0.3942 - val_accuracy: 0.8299\n",
      "Epoch 97/100\n",
      "469/469 [==============================] - 1s 3ms/step - loss: 0.4235 - accuracy: 0.8170 - val_loss: 0.3943 - val_accuracy: 0.8286\n",
      "Epoch 98/100\n",
      "469/469 [==============================] - 1s 3ms/step - loss: 0.4261 - accuracy: 0.8089 - val_loss: 0.3953 - val_accuracy: 0.8265\n",
      "Epoch 99/100\n",
      "469/469 [==============================] - 2s 3ms/step - loss: 0.4168 - accuracy: 0.8147 - val_loss: 0.3936 - val_accuracy: 0.8286\n",
      "Epoch 100/100\n",
      "469/469 [==============================] - 2s 3ms/step - loss: 0.4195 - accuracy: 0.8149 - val_loss: 0.3928 - val_accuracy: 0.8291\n"
     ]
    }
   ],
   "source": [
    "# Fitting the ANN to the Training set\n",
    "model_history=classifier.fit(x_train, y_train,validation_split=0.33, batch_size = 10, epochs = 100)"
   ]
  },
  {
   "cell_type": "code",
   "execution_count": 79,
   "id": "4b769835",
   "metadata": {},
   "outputs": [
    {
     "name": "stdout",
     "output_type": "stream",
     "text": [
      "94/94 [==============================] - 0s 1ms/step\n"
     ]
    }
   ],
   "source": [
    "# Predicting the Test set results\n",
    "y_pred = classifier.predict(x_test)\n",
    "y_pred = (y_pred > 0.5)"
   ]
  },
  {
   "cell_type": "code",
   "execution_count": 80,
   "id": "f1b1e461",
   "metadata": {},
   "outputs": [
    {
     "data": {
      "text/plain": [
       "array([[False],\n",
       "       [False],\n",
       "       [False],\n",
       "       ...,\n",
       "       [False],\n",
       "       [False],\n",
       "       [False]])"
      ]
     },
     "execution_count": 80,
     "metadata": {},
     "output_type": "execute_result"
    }
   ],
   "source": [
    "y_pred"
   ]
  },
  {
   "cell_type": "code",
   "execution_count": 83,
   "id": "eb7c6f19",
   "metadata": {},
   "outputs": [
    {
     "data": {
      "text/plain": [
       "array([[2381,   22],\n",
       "       [ 482,  115]], dtype=int64)"
      ]
     },
     "execution_count": 83,
     "metadata": {},
     "output_type": "execute_result"
    }
   ],
   "source": [
    "# Making the Confusion Matrix\n",
    "from sklearn.metrics import confusion_matrix\n",
    "cm = confusion_matrix(y_test, y_pred)\n",
    "cm"
   ]
  },
  {
   "cell_type": "code",
   "execution_count": 84,
   "id": "482480fb",
   "metadata": {},
   "outputs": [
    {
     "data": {
      "text/plain": [
       "0.8496666666666667"
      ]
     },
     "execution_count": 84,
     "metadata": {},
     "output_type": "execute_result"
    }
   ],
   "source": [
    "# Calculate the Accuracy\n",
    "from sklearn.metrics import accuracy_score\n",
    "score=accuracy_score(y_pred_new,y_test)\n",
    "score"
   ]
  },
  {
   "cell_type": "markdown",
   "id": "3f1a098e",
   "metadata": {},
   "source": [
    "#### Note :\n",
    "* We mostly use dropout when we have more deep in neural network>"
   ]
  },
  {
   "cell_type": "markdown",
   "id": "2abb6cf0",
   "metadata": {},
   "source": [
    "#### Note :\n",
    "* Here we have taken hidden layers as randmoly \n",
    "* but we use some <b>techniques hyper parametimization</b> optimizer technique to get correct number of layers."
   ]
  },
  {
   "cell_type": "code",
   "execution_count": null,
   "id": "49be1007",
   "metadata": {},
   "outputs": [],
   "source": []
  }
 ],
 "metadata": {
  "kernelspec": {
   "display_name": "Python 3 (ipykernel)",
   "language": "python",
   "name": "python3"
  },
  "language_info": {
   "codemirror_mode": {
    "name": "ipython",
    "version": 3
   },
   "file_extension": ".py",
   "mimetype": "text/x-python",
   "name": "python",
   "nbconvert_exporter": "python",
   "pygments_lexer": "ipython3",
   "version": "3.9.12"
  }
 },
 "nbformat": 4,
 "nbformat_minor": 5
}
